{
 "cells": [
  {
   "cell_type": "code",
   "execution_count": null,
   "metadata": {},
   "outputs": [],
   "source": [
    "import numpy as np\n",
    "from smr import File\n",
    "from matplotlib import pyplot as plt\n",
    "from matplotlib import animation\n",
    "from IPython.display import HTML\n"
   ]
  },
  {
   "cell_type": "code",
   "execution_count": null,
   "metadata": {},
   "outputs": [],
   "source": [
    "%matplotlib notebook"
   ]
  },
  {
   "cell_type": "markdown",
   "metadata": {},
   "source": [
    "### Source .smr full file path:"
   ]
  },
  {
   "cell_type": "code",
   "execution_count": null,
   "metadata": {},
   "outputs": [],
   "source": [
    "f_name = '/mnt/papers/Herzfeld_Nat_Neurosci_2018/raw_data/2010_Adapt/Buckley_12deg/B091608/B091608_1218_Adapt.smr'\n",
    "# f_name = '/mnt/data/kkarbasi/SimpleSpike-Felix/Felix 2006.09.06/Felix 2006.09.06 1313 List.smr'"
   ]
  },
  {
   "cell_type": "code",
   "execution_count": null,
   "metadata": {},
   "outputs": [],
   "source": [
    "smr_content = File(f_name)\n",
    "smr_content.read_channels()"
   ]
  },
  {
   "cell_type": "code",
   "execution_count": null,
   "metadata": {},
   "outputs": [],
   "source": [
    "voltage_chan = smr_content.get_channel(0)\n",
    "HE_chan = smr_content.get_channel(1)\n",
    "VE_chan = smr_content.get_channel(2)\n"
   ]
  },
  {
   "cell_type": "markdown",
   "metadata": {},
   "source": [
    "### Plot timeseries data of each channel\n"
   ]
  },
  {
   "cell_type": "code",
   "execution_count": null,
   "metadata": {},
   "outputs": [],
   "source": [
    "from sorting import sorter\n",
    "\n",
    "ss = sorter.SpikeDetector(voltage=voltage_chan.data, dt=voltage_chan.dt)\n",
    "ss.run()"
   ]
  },
  {
   "cell_type": "code",
   "execution_count": null,
   "metadata": {
    "scrolled": false
   },
   "outputs": [],
   "source": [
    "prang = slice(0,1000000)\n",
    "ss.d_voltage.shape\n",
    "# plt.figure()\n",
    "# plt.plot(voltage_chan.data[prang])\n",
    "plt.figure()\n",
    "plt.plot(ss.d_voltage[prang])\n",
    "\n",
    "# plt.figure()\n",
    "# plt.hist(ss.d_voltage[prang], 1000)\n"
   ]
  },
  {
   "cell_type": "code",
   "execution_count": null,
   "metadata": {},
   "outputs": [],
   "source": [
    "from sklearn.mixture import GaussianMixture\n",
    "\n",
    "gmm = GaussianMixture(6, covariance_type = 'tied').fit(ss.d_voltage[prang].reshape(-1,1))\n",
    "cluster_labels = gmm.predict(ss.d_voltage[prang].reshape(-1,1))\n",
    "cluster_labels = cluster_labels.reshape(ss.d_voltage[prang].shape)"
   ]
  },
  {
   "cell_type": "code",
   "execution_count": null,
   "metadata": {},
   "outputs": [],
   "source": [
    "spikes_cluster = np.argmax(gmm.means_)\n",
    "plt.figure()\n",
    "plt.plot(ss.d_voltage[prang])\n",
    "plt.plot(np.squeeze(np.where(cluster_labels == spikes_cluster)), ss.d_voltage[prang][cluster_labels == spikes_cluster], '.r')"
   ]
  },
  {
   "cell_type": "code",
   "execution_count": null,
   "metadata": {},
   "outputs": [],
   "source": [
    "from scipy.signal import find_peaks\n",
    "\n",
    "peaks = find_peaks(ss.d_voltage[prang][cluster_labels == spikes_cluster])\n",
    "print(ss.d_voltage[prang][cluster_labels == spikes_cluster].shape)\n",
    "print(peaks[0].shape)\n",
    "# print(peaks[0])\n",
    "tmp = ss.d_voltage[prang][cluster_labels == spikes_cluster][peaks[0]]\n",
    "# print(tmp)\n",
    "peak_times = np.squeeze(np.where(cluster_labels == spikes_cluster))[peaks[0]]\n",
    "# tmp[tuple(peaks[0])]\n",
    "\n",
    "plt.figure()\n",
    "plt.plot(ss.d_voltage[prang])\n",
    "plt.plot(peak_times, tmp, '.r')\n",
    "\n",
    "\n",
    "# plt.figure()\n",
    "# plt.plot(np.squeeze(np.where(cluster_labels == spikes_cluster)), ss.d_voltage[prang][cluster_labels == spikes_cluster])"
   ]
  },
  {
   "cell_type": "code",
   "execution_count": null,
   "metadata": {},
   "outputs": [],
   "source": [
    "# ss.d_voltage[prang][cluster_labels == spikes_cluster]\n",
    "# tmp = cluster_labels == spikes_cluster\n",
    "# print(tmp)\n",
    "# tmp = np.where(tmp == False)\n",
    "print(gmm.means_)\n",
    "print('cov')\n",
    "print(gmm.covariances_)"
   ]
  },
  {
   "cell_type": "code",
   "execution_count": null,
   "metadata": {},
   "outputs": [],
   "source": [
    "x = np.arange(np.min(ss.d_voltage[prang]), np.max(ss.d_voltage[prang]), 2e5)\n",
    "x.shape\n",
    "\n"
   ]
  },
  {
   "cell_type": "code",
   "execution_count": null,
   "metadata": {},
   "outputs": [],
   "source": [
    "from scipy.stats import norm\n",
    "from kaveh.plots import axvlines\n",
    "plt.figure()\n",
    "# uniq = np.unique(ss.d_voltage[prang] , return_counts=True)\n",
    "x = np.arange(np.min(ss.d_voltage[prang]), np.max(ss.d_voltage[prang]), 2e5)\n",
    "gauss_mixt = np.array([p * norm.pdf(x, mu, sd) for mu, sd, p in zip(gmm.means_.flatten(), np.sqrt(gmm.covariances_.flatten()), gmm.weights_)])\n",
    "colors = plt.cm.jet(np.linspace(0,1,len(gauss_mixt)))\n",
    "\n",
    "# plot histogram overlaid by gmm gaussians\n",
    "for i, gmixt in enumerate(gauss_mixt):\n",
    "    plt.plot(x, gmixt, label = 'Gaussian '+str(i), color = colors[i])\n",
    "\n",
    "plt.hist(ss.d_voltage[prang].reshape(-1,1),bins=256,density=True, color='gray')\n",
    "axvlines(plt.gca(), gmm.means_)\n",
    "plt.show()"
   ]
  },
  {
   "cell_type": "code",
   "execution_count": null,
   "metadata": {},
   "outputs": [],
   "source": [
    "from sorting import sorter\n",
    "\n",
    "t = 1\n",
    "print(round(t / float(ss.dt)))\n",
    "ss.plot_triggers(t)"
   ]
  },
  {
   "cell_type": "code",
   "execution_count": null,
   "metadata": {},
   "outputs": [],
   "source": [
    "from kaveh.toolbox import resample_to_freq\n",
    "\n",
    "target_freq = 10000\n",
    "\n",
    "print('resampling channel {}; title: {}; units: {}'.format(voltage_chan.channel_number, voltage_chan.title, voltage_chan.units))\n",
    "vol_resampled = resample_to_freq(voltage_chan.data, voltage_chan.ideal_rate, target_freq)\n",
    "\n",
    "print('resampling channel {}; title: {}; units: {}'.format(HE_chan.channel_number, HE_chan.title, HE_chan.units))\n",
    "HE_resampled = resample_to_freq(HE_chan.data, HE_chan.ideal_rate, target_freq)\n",
    "\n",
    "print('resampling channel {}; title: {}; units: {}'.format(VE_chan.channel_number, VE_chan.title, VE_chan.units))\n",
    "VE_resampled = resample_to_freq(VE_chan.data, VE_chan.ideal_rate, target_freq)\n",
    "\n"
   ]
  },
  {
   "cell_type": "markdown",
   "metadata": {},
   "source": [
    "### Channel information:"
   ]
  },
  {
   "cell_type": "code",
   "execution_count": null,
   "metadata": {},
   "outputs": [],
   "source": [
    "chans = smr_content.channels\n",
    "\n",
    "for chan in chans:\n",
    "    if hasattr(chan, 'comment'): print(\"Channel number {}: {}\".format(chan.channel_number , chan.comment))\n",
    "    if hasattr(chan, 'kind'): print('kind: {}'.format(chan.kind))\n",
    "    if hasattr(chan, 'units') and hasattr(chan, 'title'): print(\"Units: {} ({})\".format(chan.title , chan.units))\n",
    "    if hasattr(chan, 'dt'): print('dt: {}'.format(chan.dt))\n",
    "    print('--------------------')\n",
    "    "
   ]
  },
  {
   "cell_type": "code",
   "execution_count": null,
   "metadata": {},
   "outputs": [],
   "source": [
    "raster_chan = smr_content.get_channel(29)\n",
    "\n",
    "print(raster_chan.data.shape)\n",
    "\n",
    "print(raster_chan.data)"
   ]
  },
  {
   "cell_type": "code",
   "execution_count": null,
   "metadata": {},
   "outputs": [],
   "source": [
    "print(HE_resampled.shape)\n",
    "print(VE_resampled.shape)\n",
    "print(vol_resampled.shape)\n",
    "\n",
    "plot_range = slice(70000, 80000)\n",
    "fig, axes = plt.subplots(3,1)\n",
    "fig.set_size_inches(30,10)\n",
    "\n",
    "axes[0].plot(vol_resampled[plot_range])\n",
    "axes[0].set_title('Voltage')\n",
    "\n",
    "axes[1].plot(HE_resampled[plot_range])\n",
    "axes[1].set_title('Horizontal Eye')\n",
    "\n",
    "axes[2].plot(VE_resampled[plot_range])\n",
    "axes[2].set_title('Vertical Eye')\n",
    "\n",
    "fig.suptitle('Sampling rate = {} Hz'.format(target_freq))\n",
    "\n",
    "plt.savefig(\"./test.jpg\")"
   ]
  },
  {
   "cell_type": "markdown",
   "metadata": {},
   "source": [
    "### Select channel for animated visualization:"
   ]
  },
  {
   "cell_type": "code",
   "execution_count": null,
   "metadata": {},
   "outputs": [],
   "source": [
    "# Channel number:\n",
    "chan_number = 3\n",
    "\n",
    "# Plot frame length (x axis length, in unit time):\n",
    "frame_l = 120\n",
    "\n",
    "# Jump interval between consecutive frames\n",
    "frame_interval = 1\n",
    "\n",
    "# Animation stop time (in channel time units). It will animate from time 0 to this number\n",
    "maxn = 360\n",
    "[4000:8000]"
   ]
  },
  {
   "cell_type": "code",
   "execution_count": null,
   "metadata": {
    "scrolled": true
   },
   "outputs": [],
   "source": [
    "chan = smr_content.get_channel(chan_number)\n",
    "chan_data = chan.data\n",
    "t = np.arange(0,chan_data.shape[0])\n",
    "\n",
    "x = chan_data[0 : maxn]\n",
    "t = np.arange(0,x.shape[0])\n",
    "\n",
    "ymax = np.max(x)\n",
    "ymin = np.min(x)\n",
    "\n",
    "counter = [0]\n",
    "\n",
    "fig = plt.figure(figsize=(20 , 3))\n",
    "\n",
    "def animate(n):\n",
    "    plt.cla()\n",
    "    line = plt.plot(t[ counter[-1] :  counter[-1] + frame_l], x[counter[-1] :  counter[-1] + frame_l], color='g')\n",
    "    plt.title(chan.title)\n",
    "    plt.ylabel(chan.units)\n",
    "    plt.xlabel(\"t ({}s)\".format(chan.dt))\n",
    "    counter.append(n*frame_interval)\n",
    "        \n",
    "    \n",
    "    plt.ylim(ymax, ymin)\n",
    "    return line\n",
    "\n",
    "anim = animation.FuncAnimation(fig, animate, frames=(maxn - frame_l)/frame_interval, interval=25)\n",
    "\n",
    "HTML(anim.to_jshtml())"
   ]
  },
  {
   "cell_type": "code",
   "execution_count": null,
   "metadata": {},
   "outputs": [],
   "source": [
    "time_range = np.arange(5000, 55000, 100)\n",
    "\n",
    "HT_chan = smr_content.get_channel(1)\n",
    "VT_chan = smr_content.get_channel(2)\n",
    "\n",
    "horizontal_pos = HT_chan.data\n",
    "vertical_pos = VT_chan.data\n",
    "\n",
    "x = horizontal_pos\n",
    "y = vertical_pos\n",
    "\n",
    "ymax = np.max(y) + 1\n",
    "ymin = np.min(y) - 1\n",
    "\n",
    "xmax = np.max(x) + 1\n",
    "xmin = np.min(x) - 1\n",
    "\n",
    "\n",
    "counter = [0]\n",
    "\n",
    "fig = plt.figure(figsize=(6 , 6))\n",
    "\n",
    "def animate(n):['data']\n",
    "    plt.cla()\n",
    "#     line = plt.plot(t[ counter[-1] :  counter[-1] + frame_l], x[counter[-1] :  counter[-1] + frame_l], color='g')\n",
    "    line = plt.plot(x[n], y[n], color='r', marker='*')\n",
    "    plt.title(\"{}, Frame number: {}\".format(chan.title, n))\n",
    "    plt.ylabel(\"Vertical Position ({})\".format(VT_chan.units))\n",
    "    plt.xlabel(\"Horizontal Position ({})\".format(HT_chan.units))\n",
    "\n",
    "    plt.ylim(ymax, ymin)\n",
    "    plt.xlim(xmax, xmin)\n",
    "    return line\n",
    "\n",
    "anim = animation.FuncAnimation(fig, animate, frames=time_range, interval=2)\n",
    "\n",
    "HTML(anim.to_jshtml())\n"
   ]
  },
  {
   "cell_type": "code",
   "execution_count": null,
   "metadata": {},
   "outputs": [],
   "source": [
    "print(np.argmax(x>0))\n",
    "print(np.argmax(y>0))\n",
    "print(x.shape)"
   ]
  },
  {
   "cell_type": "code",
   "execution_count": null,
   "metadata": {},
   "outputs": [],
   "source": [
    "plt.figure(figsize=(15,2))\n",
    "plt.plot(x[14000:24000])\n",
    "\n",
    "plt.plot(y[14000:24000])"
   ]
  },
  {
   "cell_type": "code",
   "execution_count": null,
   "metadata": {},
   "outputs": [],
   "source": [
    "a = np.arange(0,5)\n",
    "print(a)\n",
    "print(a[::-1])"
   ]
  },
  {
   "cell_type": "code",
   "execution_count": null,
   "metadata": {},
   "outputs": [],
   "source": [
    "np.min(x)"
   ]
  },
  {
   "cell_type": "code",
   "execution_count": null,
   "metadata": {},
   "outputs": [],
   "source": [
    "np.size(y)"
   ]
  },
  {
   "cell_type": "code",
   "execution_count": null,
   "metadata": {},
   "outputs": [],
   "source": [
    "plt.plot(chan.blocks)"
   ]
  },
  {
   "cell_type": "code",
   "execution_count": null,
   "metadata": {},
   "outputs": [],
   "source": [
    "neuron_0 = np.load('/mnt/papers/Herzfeld_Nat_Neurosci_2018/neurophys_python2/cs_durations/neuron_0_times.npy')"
   ]
  },
  {
   "cell_type": "code",
   "execution_count": null,
   "metadata": {
    "scrolled": false
   },
   "outputs": [],
   "source": [
    "plot_range = slice(5, 20)\n",
    "\n",
    "plt.figure(figsize=(15,1))\n",
    "plt.plot(neuron_0[plot_range, 1], [1]*(plot_range.stop - plot_range.start), '.')\n",
    "plt.plot(neuron_0[plot_range, 0], [1.03]*(plot_range.stop - plot_range.start), '.')\n",
    "plt.ylim((0.5, 1.5))"
   ]
  },
  {
   "cell_type": "code",
   "execution_count": null,
   "metadata": {},
   "outputs": [],
   "source": [
    "plt.plot(neuron_0[:, 1] - neuron_0[:, 0])"
   ]
  },
  {
   "cell_type": "code",
   "execution_count": null,
   "metadata": {},
   "outputs": [],
   "source": []
  }
 ],
 "metadata": {
  "kernelspec": {
   "display_name": "Python 2",
   "language": "python",
   "name": "python2"
  },
  "language_info": {
   "codemirror_mode": {
    "name": "ipython",
    "version": 2
   },
   "file_extension": ".py",
   "mimetype": "text/x-python",
   "name": "python",
   "nbconvert_exporter": "python",
   "pygments_lexer": "ipython2",
   "version": "2.7.12"
  }
 },
 "nbformat": 4,
 "nbformat_minor": 2
}
