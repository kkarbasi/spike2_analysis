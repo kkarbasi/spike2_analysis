{
 "cells": [
  {
   "cell_type": "code",
   "execution_count": 1,
   "metadata": {},
   "outputs": [],
   "source": [
    "try:\n",
    "    import cPickle as pickle\n",
    "except ModuleNotFoundError:\n",
    "    import pickle\n",
    "    \n",
    "from smr import File\n",
    "import numpy as np\n",
    "from matplotlib import pyplot as plt\n",
    "from kaveh.behavioral import oculomotor\n",
    "from kaveh import plots\n",
    "import os\n",
    "import scipy.signal\n",
    "import csv\n"
   ]
  },
  {
   "cell_type": "code",
   "execution_count": 2,
   "metadata": {},
   "outputs": [],
   "source": [
    "%load_ext autoreload\n",
    "%autoreload 2"
   ]
  },
  {
   "cell_type": "code",
   "execution_count": 3,
   "metadata": {},
   "outputs": [],
   "source": [
    "def find(name, path):\n",
    "    for root, dirs, files in os.walk(path):\n",
    "        if name in files:\n",
    "            return os.path.join(root, name)"
   ]
  },
  {
   "cell_type": "code",
   "execution_count": 4,
   "metadata": {},
   "outputs": [
    {
     "name": "stdout",
     "output_type": "stream",
     "text": [
      "31\n"
     ]
    }
   ],
   "source": [
    "files_with_8_dir_exp = []\n",
    "with open('/mnt/data/temp/kaveh/2010_Adapt.csv') as csv_file:\n",
    "    csv_reader = csv.reader(csv_file, delimiter=',')\n",
    "    for row in csv_reader:\n",
    "        if(row[1] == '*'):\n",
    "            path, filename = os.path.split(row[0])\n",
    "            f_name = find(filename[:-4], '/mnt/papers/Herzfeld_Nat_Neurosci_2018/raw_data/2010_Adapt/')\n",
    "            files_with_8_dir_exp = files_with_8_dir_exp + [f_name]\n",
    "            \n",
    "\n",
    "print(len(files_with_8_dir_exp))"
   ]
  },
  {
   "cell_type": "code",
   "execution_count": null,
   "metadata": {},
   "outputs": [
    {
     "name": "stdout",
     "output_type": "stream",
     "text": [
      "/mnt/papers/Herzfeld_Nat_Neurosci_2018/raw_data/2010_Adapt/Buckley_12deg/B093008/B093008_1200_Adapt.smr\n",
      "Not implemented (type = 6)\n",
      "Not implemented (type = 6)\n",
      "Not implemented (type = 6)\n",
      "Not implemented (type = 5)\n",
      "Not implemented (type = 5)\n"
     ]
    }
   ],
   "source": [
    "plt.ioff()\n",
    "\n",
    "with open('/mnt/data/temp/kaveh/2010_Adapt.csv') as csv_file:\n",
    "    csv_reader = csv.reader(csv_file, delimiter=',')\n",
    "    for row in csv_reader:\n",
    "        if(row[1] == '/'):\n",
    "            path, filename = os.path.split(row[0])\n",
    "            f_name = find(filename[:-4], '/mnt/papers/Herzfeld_Nat_Neurosci_2018/raw_data/2010_Adapt/')\n",
    "            print(f_name)\n",
    "            smr_content = File(f_name)\n",
    "            smr_content.read_channels()\n",
    "            ht = smr_content.get_channel(3)\n",
    "            vt = smr_content.get_channel(4)\n",
    "            tt = oculomotor.target(vt.data, ht.data, ht.dt, '2d')\n",
    "            target_jumps_to, jump_amps = tt.get_target_jumps(num_clusters=16, jump_tol= 150)\n",
    "            jump_vecs = tt.jump_vecs\n",
    "            jump_vecs_h = jump_vecs[:,0]\n",
    "            jump_vecs_v = jump_vecs[:,1]\n",
    "                        \n",
    "            plt.figure()\n",
    "            plt.plot(jump_vecs_h, jump_vecs_v, '.b', alpha = 0.05)\n",
    "            plt.plot(jump_amps[:,0], jump_amps[:,1], '.r', alpha=0.5)\n",
    "            plt.savefig(os.path.join('../data/jump_vector_plots_with_detected_45/', filename + '.png'))\n",
    "            plt.close()\n",
    "            \n",
    "            "
   ]
  },
  {
   "cell_type": "code",
   "execution_count": null,
   "metadata": {},
   "outputs": [],
   "source": []
  }
 ],
 "metadata": {
  "kernelspec": {
   "display_name": "Python 2",
   "language": "python",
   "name": "python2"
  },
  "language_info": {
   "codemirror_mode": {
    "name": "ipython",
    "version": 2
   },
   "file_extension": ".py",
   "mimetype": "text/x-python",
   "name": "python",
   "nbconvert_exporter": "python",
   "pygments_lexer": "ipython2",
   "version": "2.7.12"
  }
 },
 "nbformat": 4,
 "nbformat_minor": 2
}
