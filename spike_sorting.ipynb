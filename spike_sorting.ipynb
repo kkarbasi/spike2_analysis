{
 "cells": [
  {
   "cell_type": "code",
   "execution_count": 1,
   "metadata": {},
   "outputs": [],
   "source": [
    "from smr import File\n",
    "import numpy as np\n",
    "from matplotlib import pyplot as plt\n",
    "from kaveh.plots import axvlines\n",
    "from kaveh.sorting.spikesorter import SimpleSpikeSorter\n"
   ]
  },
  {
   "cell_type": "code",
   "execution_count": 2,
   "metadata": {},
   "outputs": [],
   "source": [
    "%matplotlib notebook\n",
    "%load_ext autoreload\n",
    "%autoreload 2"
   ]
  },
  {
   "cell_type": "code",
   "execution_count": 3,
   "metadata": {},
   "outputs": [],
   "source": [
    "f_name = '/mnt/papers/Herzfeld_Nat_Neurosci_2018/raw_data/2010_Adapt/Buckley_12deg/B091608/B091608_1218_Adapt.smr'\n",
    "# f_name = '/mnt/data/kkarbasi/SimpleSpike-Felix/Felix 2006.09.06/Felix 2006.09.06 1313 List.smr'\n",
    "# f_name = '/mnt/papers/Herzfeld_Nat_Neurosci_2018/raw_data/2010_Adapt/Buckley_12deg/B091608/B091608_1306_AdaptForward.smr'\n",
    "# f_name = '/mnt/papers/Herzfeld_Nat_Neurosci_2018/raw_data/2010_Adapt/Wyatt/W120308_2/W120308_2_1714_List.smr'"
   ]
  },
  {
   "cell_type": "code",
   "execution_count": 4,
   "metadata": {},
   "outputs": [
    {
     "name": "stdout",
     "output_type": "stream",
     "text": [
      "Not implemented (type = 6)\n",
      "Not implemented (type = 6)\n",
      "Not implemented (type = 6)\n",
      "Not implemented (type = 5)\n",
      "Not implemented (type = 5)\n"
     ]
    }
   ],
   "source": [
    "smr_content = File(f_name)\n",
    "smr_content.read_channels()"
   ]
  },
  {
   "cell_type": "code",
   "execution_count": 5,
   "metadata": {},
   "outputs": [],
   "source": [
    "voltage_chan = smr_content.get_channel(0)\n",
    "# HE_chan = smr_content.get_channel(1)\n",
    "# VE_chan = smr_content.get_channel(2)"
   ]
  },
  {
   "cell_type": "code",
   "execution_count": null,
   "metadata": {},
   "outputs": [],
   "source": []
  },
  {
   "cell_type": "code",
   "execution_count": null,
   "metadata": {},
   "outputs": [],
   "source": [
    "%%time\n",
    "# Time range of data to process:\n",
    "t_0 = 0 #s\n",
    "t_end = 2800 #s\n",
    "\n",
    "idx_0 = int(np.round(t_0 / voltage_chan.dt))\n",
    "idx_end = int(np.round(t_end / voltage_chan.dt))\n",
    "prange = slice(idx_0, idx_end)\n",
    "sss = SimpleSpikeSorter(voltage_chan.data[prange], voltage_chan.dt)\n",
    "sss.run()\n"
   ]
  },
  {
   "cell_type": "code",
   "execution_count": null,
   "metadata": {
    "scrolled": true
   },
   "outputs": [],
   "source": [
    "# sss.plot_spike_peaks()\n",
    "sss.plot_spike_waveforms_average()\n",
    "sss.recluster_complex_spikes(freq_range= (0,50000), gmm_nc=2, cov_type='diag', plot_hist=True)\n",
    "\n",
    "sss.plot_voltage(figsize=(20,5))\n",
    "axvlines(plt.gca(), sss.get_cs_spike_indices() * sss.dt, color='r', alpha=0.25, zorder=10)\n"
   ]
  },
  {
   "cell_type": "code",
   "execution_count": null,
   "metadata": {},
   "outputs": [],
   "source": [
    "_, powers, xf = sss._find_max_powers()"
   ]
  },
  {
   "cell_type": "code",
   "execution_count": null,
   "metadata": {},
   "outputs": [],
   "source": [
    "from kaveh.toolbox import closest_argmin\n",
    "csi = sss.get_cs_spike_indices()\n",
    "ssi = sss.get_spike_indices()\n",
    "\n",
    "cs = closest_argmin(csi, ssi)\n"
   ]
  },
  {
   "cell_type": "code",
   "execution_count": null,
   "metadata": {},
   "outputs": [],
   "source": [
    "plt.figure()\n",
    "\n",
    "plt.plot(xf, powers[35,:])\n",
    "plt.plot(xf, powers[2,:])\n",
    "\n",
    "plt.xlabel('Frequency (Hz)')\n",
    "plt.ylabel('Signal Power')\n",
    "plt.legend(['CS', 'SS'])\n",
    "plt.savefig('test.png')"
   ]
  },
  {
   "cell_type": "code",
   "execution_count": null,
   "metadata": {},
   "outputs": [],
   "source": [
    "# Spike window (in seconds)\n",
    "pre = 0.0005\n",
    "post = 0.01\n",
    "\n",
    "sss.set_spike_window(pre, post)\n",
    "sss.recluster_complex_spikes(plot_hist=True)\n",
    "\n",
    "# sss.plot_spike_waveforms_average()\n",
    "\n",
    "# sss.plot_spike_peaks(figsize=(5,3))"
   ]
  },
  {
   "cell_type": "code",
   "execution_count": null,
   "metadata": {},
   "outputs": [],
   "source": [
    "# Read the labeled complex spike data from smr files\n",
    "\n",
    "from neo.io import Spike2IO\n",
    "from kaveh.toolbox import closest_argmin\n",
    "neo_reader = Spike2IO(filename=f_name)\n",
    "neo_data = neo_reader.read()\n",
    "data_block = neo_data[0]\n",
    "seg = data_block.segments[0]\n",
    "# Assuming cs spike trains are saved in the 0th index of spike train channels\n",
    "cs_spiketrain = np.array(seg.spiketrains[0])\n",
    "cs_spiketrain = np.int32(cs_spiketrain/sss.dt)\n",
    "cs_spiketrain = cs_spiketrain[np.where(np.logical_and(cs_spiketrain >= idx_0, cs_spiketrain < idx_end))]\n",
    "cs_spike_indices = np.unique(closest_argmin(cs_spiketrain, sss.get_spike_indices()))"
   ]
  },
  {
   "cell_type": "code",
   "execution_count": null,
   "metadata": {},
   "outputs": [],
   "source": [
    "sss.plot_voltage(figsize=(20,5))\n",
    "from kaveh.plots import axvlines\n",
    "axvlines(plt.gca(), sss.get_cs_spike_indices() * sss.dt, color='r', alpha=0.25, zorder=10)\n",
    "plt.plot(sss.get_spike_indices()[cs_spike_indices] * sss.dt, [0]*sss.get_spike_indices()[cs_spike_indices].shape[0], 'm*')\n",
    "\n"
   ]
  },
  {
   "cell_type": "code",
   "execution_count": null,
   "metadata": {},
   "outputs": [],
   "source": [
    "# plot of average simple spikes overlaid by average complex spikes (from labeled data)\n",
    "\n",
    "sss._align_spikes()\n",
    "sss.plot_spike_waveforms_average()\n",
    "\n",
    "pre_index = int(np.round(sss.pre_window / sss.dt))\n",
    "post_index = int(np.round(sss.post_window / sss.dt))\n",
    "\n",
    "\n",
    "cs_aligned_spikes = np.array([sss.voltage[i - pre_index : i + post_index ] for i in sss.get_spike_indices()[cs_spike_indices]])\n",
    "\n",
    "cs_spikes_avg = np.mean(cs_aligned_spikes, axis = 0)\n",
    "cs_spikes_std = np.std(cs_aligned_spikes, axis = 0)/np.sqrt(cs_aligned_spikes.shape[0])\n",
    "x = np.arange(0, cs_aligned_spikes.shape[1])\n",
    "\n",
    "l = plt.plot(x, cs_spikes_avg, 'r')\n",
    "plt.fill_between(x, cs_spikes_avg - cs_spikes_std, cs_spikes_avg + cs_spikes_std, color=l[0].get_color(), alpha=0.25)\n",
    "\n",
    "\n",
    "\n"
   ]
  },
  {
   "cell_type": "code",
   "execution_count": null,
   "metadata": {
    "scrolled": true
   },
   "outputs": [],
   "source": [
    "# Separate plots of average ss and cs from labeld data\n",
    "\n",
    "plt.figure()\n",
    "\n",
    "for cs in cs_aligned_spikes:\n",
    "    plt.plot(cs, alpha=0.10, color='k')\n",
    "    \n",
    "plt.plot(cs_spikes_avg, 'r')\n",
    "\n",
    "plt.figure()\n",
    "\n",
    "for ss in sss.aligned_spikes[0:100]:\n",
    "        plt.plot(ss, alpha=0.10, color='k')\n",
    "plt.plot(np.mean(sss.aligned_spikes[0:100], axis=0))\n"
   ]
  },
  {
   "cell_type": "code",
   "execution_count": null,
   "metadata": {},
   "outputs": [],
   "source": [
    "# Plot of standard deviations\n",
    "plt.figure()\n",
    "plt.plot(cs_spikes_std)\n",
    "\n",
    "# plt.figure()\n",
    "plt.plot(np.std(sss.aligned_spikes, axis = 0)/np.sqrt(sss.aligned_spikes.shape[0]), 'r')"
   ]
  },
  {
   "cell_type": "code",
   "execution_count": null,
   "metadata": {
    "scrolled": true
   },
   "outputs": [],
   "source": []
  },
  {
   "cell_type": "code",
   "execution_count": null,
   "metadata": {},
   "outputs": [],
   "source": [
    "false_positives = np.setdiff1d(cs_indices, np.intersect1d(cs_indices, sss.get_spike_indices()[cs_spike_indices]))\n",
    "false_positives"
   ]
  }
 ],
 "metadata": {
  "kernelspec": {
   "display_name": "Python 2",
   "language": "python",
   "name": "python2"
  },
  "language_info": {
   "codemirror_mode": {
    "name": "ipython",
    "version": 2
   },
   "file_extension": ".py",
   "mimetype": "text/x-python",
   "name": "python",
   "nbconvert_exporter": "python",
   "pygments_lexer": "ipython2",
   "version": "2.7.12"
  }
 },
 "nbformat": 4,
 "nbformat_minor": 2
}
