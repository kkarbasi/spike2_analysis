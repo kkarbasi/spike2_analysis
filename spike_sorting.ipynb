{
 "cells": [
  {
   "cell_type": "code",
   "execution_count": 6,
   "metadata": {},
   "outputs": [],
   "source": [
    "from smr import File\n",
    "import numpy as np\n",
    "from matplotlib import pyplot as plt\n",
    "from kaveh.plots import axvlines\n",
    "from kaveh.sorting.spikesorter import SimpleSpikeSorter\n"
   ]
  },
  {
   "cell_type": "code",
   "execution_count": 7,
   "metadata": {},
   "outputs": [
    {
     "name": "stdout",
     "output_type": "stream",
     "text": [
      "The autoreload extension is already loaded. To reload it, use:\n",
      "  %reload_ext autoreload\n"
     ]
    }
   ],
   "source": [
    "%matplotlib notebook\n",
    "%load_ext autoreload\n",
    "%autoreload 2"
   ]
  },
  {
   "cell_type": "code",
   "execution_count": 8,
   "metadata": {},
   "outputs": [],
   "source": [
    "# f_name = '/mnt/papers/Herzfeld_Nat_Neurosci_2018/raw_data/2010_Adapt/Buckley_12deg/B091608/B091608_1218_Adapt.smr'\n",
    "f_name = '/mnt/data/kkarbasi/SimpleSpike-Felix/Felix 2006.09.06/Felix 2006.09.06 1313 List.smr'\n",
    "# f_name = '/mnt/papers/Herzfeld_Nat_Neurosci_2018/raw_data/2008_Random/Step/S38/error_magnitude/S38_1_315degErrorTest.smr'\n",
    "# f_name = '/mnt/papers/Herzfeld_Nat_Neurosci_2018/raw_data/2010_Adapt/Wyatt/W120308_2/W120308_2_1714_List.smr'\n",
    "#f_name = '/mnt/papers/Herzfeld_Nat_Neurosci_2018/raw_data/2008_Random/Kimo/K32/error_direction/K32_1dirtest.smr'\n",
    "# f_name = '/mnt/papers/Herzfeld_Nat_Neurosci_2018/raw_data/2010_Adapt/Wyatt/W073108/W073108_1449_List.smr'\n",
    "# f_name = '/mnt/papers/Herzfeld_Nat_Neurosci_2018/raw_data/2006/Oscar/oscar_3_27_03_U17_5.smr'"
   ]
  },
  {
   "cell_type": "code",
   "execution_count": 9,
   "metadata": {},
   "outputs": [
    {
     "name": "stdout",
     "output_type": "stream",
     "text": [
      "Not implemented (type = 6)\n",
      "Not implemented (type = 6)\n",
      "Not implemented (type = 6)\n",
      "Not implemented (type = 5)\n",
      "Not implemented (type = 5)\n"
     ]
    }
   ],
   "source": [
    "smr_content = File(f_name)\n",
    "smr_content.read_channels()"
   ]
  },
  {
   "cell_type": "code",
   "execution_count": 10,
   "metadata": {},
   "outputs": [],
   "source": [
    "voltage_chan = smr_content.get_channel(0)\n",
    "# HE_chan = smr_content.get_channel(1)\n",
    "# VE_chan = smr_content.get_channel(2)"
   ]
  },
  {
   "cell_type": "code",
   "execution_count": 13,
   "metadata": {},
   "outputs": [],
   "source": [
    "signal = voltage_chan.data[0:20000]\n",
    "dt = voltage_chan.dt"
   ]
  },
  {
   "cell_type": "code",
   "execution_count": null,
   "metadata": {},
   "outputs": [],
   "source": [
    "t_0 = 300 #s\n",
    "t_end = 350 #s\n",
    "\n",
    "idx_0 = int(np.round(t_0 / voltage_chan.dt))\n",
    "idx_end = int(np.round(t_end / voltage_chan.dt))\n",
    "prange = slice(idx_0, idx_end)\n",
    "plt.plot(voltage_chan.data[prange])"
   ]
  },
  {
   "cell_type": "code",
   "execution_count": null,
   "metadata": {
    "scrolled": true
   },
   "outputs": [],
   "source": [
    "%%time\n",
    "# Time range of data to process:\n",
    "t_0 = 0#s\n",
    "t_end = 80 #s\n",
    "idx_0 = int(np.round(t_0 / voltage_chan.dt))\n",
    "idx_end = int(np.round(t_end / voltage_chan.dt))\n",
    "prange = slice(idx_0, idx_end)\n",
    "sss = SimpleSpikeSorter(voltage_chan.data, voltage_chan.dt)\n",
    "sss.run()\n"
   ]
  },
  {
   "cell_type": "code",
   "execution_count": null,
   "metadata": {},
   "outputs": [],
   "source": [
    "sss.aligned_spikes.shape"
   ]
  },
  {
   "cell_type": "code",
   "execution_count": null,
   "metadata": {},
   "outputs": [],
   "source": [
    "sss._remove_overlapping_spike_windows().size"
   ]
  },
  {
   "cell_type": "code",
   "execution_count": null,
   "metadata": {
    "scrolled": false
   },
   "outputs": [],
   "source": [
    "sss.plot_voltage(figsize=(15,5))\n"
   ]
  },
  {
   "cell_type": "code",
   "execution_count": null,
   "metadata": {},
   "outputs": [],
   "source": [
    "plt.savefig('raw_voltage_CS_full_zoom.png')"
   ]
  },
  {
   "cell_type": "code",
   "execution_count": null,
   "metadata": {},
   "outputs": [],
   "source": [
    "axvlines(plt.gca(), sss.get_cs_spike_indices() * sss.dt, color='r', alpha=0.25, zorder=10)\n",
    "# axvlines(plt.gca(), sss.get_spike_indices() * sss.dt, color='g', alpha=0.75, zorder=10)\n"
   ]
  },
  {
   "cell_type": "code",
   "execution_count": null,
   "metadata": {
    "scrolled": false
   },
   "outputs": [],
   "source": [
    "# sss.plot_spike_peaks()\n",
    "sss.plot_spike_waveforms_average()\n",
    "sss.recluster_complex_spikes(freq_range= (0,5000), gmm_nc=2, cov_type='diag', plot_hist=True)\n",
    "\n",
    "sss.plot_voltage(figsize=(20,5))\n",
    "axvlines(plt.gca(), sss.get_cs_spike_indices() * sss.dt, color='r', alpha=0.25, zorder=10)\n"
   ]
  },
  {
   "cell_type": "code",
   "execution_count": null,
   "metadata": {},
   "outputs": [],
   "source": [
    "max_powers, powers, xf = sss._find_max_powers()"
   ]
  },
  {
   "cell_type": "code",
   "execution_count": null,
   "metadata": {},
   "outputs": [],
   "source": [
    "print(sss.aligned_spikes.shape)\n",
    "print(powers.shape)\n",
    "print(max_powers.shape)\n",
    "print(xf.shape)\n"
   ]
  },
  {
   "cell_type": "code",
   "execution_count": null,
   "metadata": {},
   "outputs": [],
   "source": [
    "from kaveh.toolbox import closest_argmin\n",
    "csi = sss.get_cs_spike_indices()\n",
    "si = sss.get_spike_indices()\n",
    "ssi = np.setdiff1d(si, csi)\n",
    "cs = closest_argmin(csi, si)\n",
    "ss = closest_argmin(ssi, si)"
   ]
  },
  {
   "cell_type": "code",
   "execution_count": null,
   "metadata": {},
   "outputs": [],
   "source": [
    "cs.shape"
   ]
  },
  {
   "cell_type": "code",
   "execution_count": null,
   "metadata": {},
   "outputs": [],
   "source": [
    "def plot_shaded_err(x, mean_signal, err_signal, **kw):\n",
    "    \"\"\"\n",
    "    Plots the average spike wavelets of the current dataset\n",
    "    \"\"\"\n",
    "    l = plt.plot(x, mean_signal, **kw)\n",
    "    plt.fill_between(x, mean_signal - err_signal, mean_signal + err_signal, color=l[0].get_color(), alpha=0.25) \n",
    "    \n",
    "\n",
    "plt.figure()\n",
    "plot_shaded_err(xf, np.mean(powers[cs,:], axis=0), np.std(powers[cs,:], axis=0)/np.sqrt(cs.size))\n",
    "plot_shaded_err(xf, np.mean(powers[ss,:], axis=0), np.std(powers[ss,:], axis=0)/np.sqrt(ssi.size))"
   ]
  },
  {
   "cell_type": "code",
   "execution_count": null,
   "metadata": {},
   "outputs": [],
   "source": [
    "plt.figure()\n",
    "\n",
    "plt.plot(xf, powers[35,:])\n",
    "plt.plot(xf, powers[2,:])\n",
    "\n",
    "plt.xlabel('Frequency (Hz)')\n",
    "plt.ylabel('Signal Power')\n",
    "plt.legend(['CS', 'SS'])\n",
    "plt.savefig('test.png')"
   ]
  },
  {
   "cell_type": "code",
   "execution_count": null,
   "metadata": {
    "scrolled": false
   },
   "outputs": [],
   "source": [
    "# Spike window (in seconds)\n",
    "pre = 0.0005\n",
    "post = 0.005\n",
    "\n",
    "sss.set_spike_window(pre, post)\n",
    "sss.recluster_complex_spikes(plot_hist=True, gmm_nc=2)\n",
    "\n",
    "# sss.plot_spike_waveforms_average()\n",
    "\n",
    "# sss.plot_spike_peaks(figsize=(5,3))"
   ]
  },
  {
   "cell_type": "code",
   "execution_count": null,
   "metadata": {},
   "outputs": [],
   "source": [
    "plt.xlabel('Max power in 1-5000 Hz frequecy range ')\n",
    "plt.ylabel('Normalized count')\n",
    "plt.title('Histogram of max powers of detected spikes in frequency domain, overlaid by fitted 2-component GMM')\n",
    "plt.savefig('power_hist_gmm.png')"
   ]
  },
  {
   "cell_type": "code",
   "execution_count": null,
   "metadata": {},
   "outputs": [],
   "source": [
    "# Read the labeled complex spike data from smr files\n",
    "\n",
    "from neo.io import Spike2IO\n",
    "from kaveh.toolbox import closest_argmin\n",
    "neo_reader = Spike2IO(filename=f_name)\n",
    "neo_data = neo_reader.read()\n",
    "data_block = neo_data[0]\n",
    "seg = data_block.segments[0]\n",
    "# Assuming cs spike trains are saved in the 0th index of spike train channels\n",
    "cs_spiketrain = np.array(seg.spiketrains[0])\n",
    "cs_spiketrain = np.int32(cs_spiketrain/voltage_chan.dt)\n",
    "cs_spiketrain = cs_spiketrain[np.where(np.logical_and(cs_spiketrain >= idx_0, cs_spiketrain < idx_end))]\n",
    "cs_spike_indices = np.unique(closest_argmin(cs_spiketrain, sss.get_spike_indices()))"
   ]
  },
  {
   "cell_type": "code",
   "execution_count": null,
   "metadata": {},
   "outputs": [],
   "source": [
    "sss.plot_voltage(figsize=(20,5))\n",
    "from kaveh.plots import axvlines\n",
    "axvlines(plt.gca(), sss.get_cs_spike_indices() * sss.dt, color='r', alpha=0.25, zorder=10)\n",
    "plt.plot(sss.get_spike_indices()[cs_spike_indices] * sss.dt, [0]*sss.get_spike_indices()[cs_spike_indices].shape[0], 'm*')\n",
    "plt.savefig('detected_cs_and_labeled.png')\n"
   ]
  },
  {
   "cell_type": "code",
   "execution_count": null,
   "metadata": {},
   "outputs": [],
   "source": [
    "plt.savefig('detected_cs_false_positive_6.png')"
   ]
  },
  {
   "cell_type": "code",
   "execution_count": null,
   "metadata": {},
   "outputs": [],
   "source": [
    "# plot of average simple spikes overlaid by average complex spikes (from labeled data)\n",
    "\n",
    "sss._align_spikes()\n",
    "sss.plot_spike_waveforms_average()\n",
    "\n",
    "pre_index = int(np.round(sss.pre_window / sss.dt))\n",
    "post_index = int(np.round(sss.post_window / sss.dt))\n",
    "\n",
    "\n",
    "cs_aligned_spikes = np.array([sss.voltage[i - pre_index : i + post_index ] for i in sss.get_spike_indices()[cs_spike_indices]])\n",
    "\n",
    "cs_spikes_avg = np.mean(cs_aligned_spikes, axis = 0)\n",
    "cs_spikes_std = np.std(cs_aligned_spikes, axis = 0)/np.sqrt(cs_aligned_spikes.shape[0])\n",
    "x = np.arange(0, cs_aligned_spikes.shape[1])\n",
    "\n",
    "l = plt.plot(x, cs_spikes_avg, 'r')\n",
    "plt.fill_between(x, cs_spikes_avg - cs_spikes_std, cs_spikes_avg + cs_spikes_std, color=l[0].get_color(), alpha=0.25)\n",
    "\n",
    "\n",
    "\n"
   ]
  },
  {
   "cell_type": "code",
   "execution_count": null,
   "metadata": {},
   "outputs": [],
   "source": [
    "np.arange(0, cs_spikes_avg.size*sss.dt)"
   ]
  },
  {
   "cell_type": "code",
   "execution_count": null,
   "metadata": {
    "scrolled": false
   },
   "outputs": [],
   "source": [
    "# Separate plots of average ss and cs from labeld data\n",
    "\n",
    "plt.figure()\n",
    "\n",
    "for cs in cs_aligned_spikes:\n",
    "    plt.plot(np.arange(0, cs.size)*sss.dt, cs, alpha=0.10, color='k')\n",
    "    \n",
    "plt.plot(np.arange(0, cs_spikes_avg.size)*sss.dt, cs_spikes_avg, 'r')\n",
    "plt.title('Average CS waveform')\n",
    "plt.xlabel('Time(s)')\n",
    "plt.savefig('average_cs_wf.png')\n",
    "\n",
    "plt.figure()\n",
    "\n",
    "for ss in sss.aligned_spikes[0:100]:\n",
    "        plt.plot(np.arange(0, ss.size)*sss.dt, ss, alpha=0.10, color='k')\n",
    "plt.plot(np.arange(0, sss.aligned_spikes.shape[1])*sss.dt, np.mean(sss.aligned_spikes[0:100], axis=0))\n",
    "plt.title('Average SS waveform')\n",
    "plt.xlabel('Time(s)')\n",
    "plt.savefig('average_ss_wf.png')"
   ]
  },
  {
   "cell_type": "code",
   "execution_count": null,
   "metadata": {},
   "outputs": [],
   "source": [
    "# Plot of standard deviations\n",
    "plt.figure()\n",
    "plt.plot(cs_spikes_std)\n",
    "\n",
    "# plt.figure()\n",
    "plt.plot(np.std(sss.aligned_spikes, axis = 0)/np.sqrt(sss.aligned_spikes.shape[0]), 'r')"
   ]
  },
  {
   "cell_type": "code",
   "execution_count": null,
   "metadata": {
    "scrolled": true
   },
   "outputs": [],
   "source": []
  },
  {
   "cell_type": "code",
   "execution_count": null,
   "metadata": {},
   "outputs": [],
   "source": [
    "false_positives = np.setdiff1d(cs_indices, np.intersect1d(cs_indices, sss.get_spike_indices()[cs_spike_indices]))\n",
    "false_positives"
   ]
  }
 ],
 "metadata": {
  "kernelspec": {
   "display_name": "Python 2",
   "language": "python",
   "name": "python2"
  },
  "language_info": {
   "codemirror_mode": {
    "name": "ipython",
    "version": 2
   },
   "file_extension": ".py",
   "mimetype": "text/x-python",
   "name": "python",
   "nbconvert_exporter": "python",
   "pygments_lexer": "ipython2",
   "version": "2.7.12"
  }
 },
 "nbformat": 4,
 "nbformat_minor": 2
}
