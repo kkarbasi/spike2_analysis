{
 "cells": [
  {
   "cell_type": "code",
   "execution_count": 40,
   "metadata": {},
   "outputs": [],
   "source": [
    "try:\n",
    "    import cPickle as pickle\n",
    "except ModuleNotFoundError:\n",
    "    import pickle\n",
    "from kaveh.behavioral.oculomotor.target import target\n",
    "from kaveh.sorting import spikesorter\n",
    "from kaveh.toolbox import find_file\n",
    "import numpy as np\n",
    "from matplotlib import pyplot as plt\n",
    "from smr import File\n",
    "import csv\n",
    "import os\n",
    "from neo.io import Spike2IO\n"
   ]
  },
  {
   "cell_type": "code",
   "execution_count": 41,
   "metadata": {},
   "outputs": [
    {
     "name": "stdout",
     "output_type": "stream",
     "text": [
      "The autoreload extension is already loaded. To reload it, use:\n",
      "  %reload_ext autoreload\n"
     ]
    }
   ],
   "source": [
    "%matplotlib notebook\n",
    "%load_ext autoreload\n",
    "%autoreload 2"
   ]
  },
  {
   "cell_type": "code",
   "execution_count": 42,
   "metadata": {},
   "outputs": [],
   "source": [
    "raw_files_with_8_dir_exp = []\n",
    "num_clust = []\n",
    "with open('/mnt/data/temp/kaveh/2010_Adapt.csv') as csv_file:\n",
    "    csv_reader = csv.reader(csv_file, delimiter=',')\n",
    "    for row in csv_reader:\n",
    "        if(row[1] == '*'):\n",
    "            path, filename = os.path.split(row[0])\n",
    "            f_name = find_file(filename[:-4], '/mnt/papers/Herzfeld_Nat_Neurosci_2018/raw_data/2010_Adapt/')\n",
    "            raw_files_with_8_dir_exp = raw_files_with_8_dir_exp + [f_name]\n",
    "#             num_clust = num_clust + [int(row[2])]\n",
    "            "
   ]
  },
  {
   "cell_type": "code",
   "execution_count": 43,
   "metadata": {},
   "outputs": [],
   "source": [
    "neo_reader = Spike2IO(filename=raw_files_with_8_dir_exp[5])\n",
    "seg = neo_reader.read_segment()"
   ]
  },
  {
   "cell_type": "code",
   "execution_count": 44,
   "metadata": {},
   "outputs": [],
   "source": [
    "analog_sigs = seg.analogsignals"
   ]
  },
  {
   "cell_type": "code",
   "execution_count": 45,
   "metadata": {},
   "outputs": [
    {
     "name": "stdout",
     "output_type": "stream",
     "text": [
      "('HE: ', u'HE')\n",
      "('VE: ', u'VE')\n",
      "('HT: ', u'HT')\n",
      "('VE: ', u'VT')\n"
     ]
    }
   ],
   "source": [
    "asig = analog_sigs[0]\n",
    "\n",
    "for asig in analog_sigs:\n",
    "#     print(asig.annotations['channel_names'], asig.annotations['channel_ids'])\n",
    "    if asig.annotations['channel_ids'][0] == 1:\n",
    "        print('HE: ', asig.annotations['channel_names'][0])\n",
    "        he_pos = asig.magnitude\n",
    "        he_dt = asig.sampling_period.magnitude\n",
    "    if asig.annotations['channel_ids'][0] == 2:\n",
    "        print('VE: ', asig.annotations['channel_names'][0])\n",
    "        ve_pos = asig.magnitude\n",
    "        ve_dt = asig.sampling_period.magnitude\n",
    "    if asig.annotations['channel_ids'][0] == 3:\n",
    "        print('HT: ', asig.annotations['channel_names'][0])\n",
    "        ht_pos = asig.magnitude\n",
    "        ht_dt = asig.sampling_period.magnitude\n",
    "    if asig.annotations['channel_ids'][0] == 4:\n",
    "        print('VE: ', asig.annotations['channel_names'][0])\n",
    "        vt_pos = asig.magnitude\n",
    "        vt_dt = asig.sampling_period.magnitude"
   ]
  },
  {
   "cell_type": "code",
   "execution_count": 55,
   "metadata": {},
   "outputs": [],
   "source": [
    "tt = target(np.squeeze(vt_pos), np.squeeze(ht_pos), float(vt_dt), '2d')"
   ]
  },
  {
   "cell_type": "code",
   "execution_count": 59,
   "metadata": {},
   "outputs": [],
   "source": [
    "tjs = tt._find_target_jumps_2d()"
   ]
  },
  {
   "cell_type": "code",
   "execution_count": null,
   "metadata": {},
   "outputs": [],
   "source": [
    "raw_files_with_8_dir_exp[5]"
   ]
  },
  {
   "cell_type": "code",
   "execution_count": null,
   "metadata": {},
   "outputs": [],
   "source": [
    "ve_v = np.diff(ve_pos, axis=0)/ve_dt\n",
    "he_v = np.diff(he_pos, axis=0)/he_dt\n",
    "\n"
   ]
  },
  {
   "cell_type": "code",
   "execution_count": null,
   "metadata": {},
   "outputs": [],
   "source": [
    "(1.0 / (2.0 * ve_dt))"
   ]
  },
  {
   "cell_type": "code",
   "execution_count": null,
   "metadata": {},
   "outputs": [],
   "source": [
    "from scipy import signal\n",
    "cutoff_freq = 100.0\n",
    "filter_order = 3\n",
    "\n",
    "b, a = signal.butter(filter_order, cutoff_freq / (1.0 / (2.0 * ve_dt)), 'low')\n",
    "ve_v_filtered = signal.filtfilt(b, a, ve_v, axis=0)\n",
    "b, a = signal.butter(filter_order, cutoff_freq / (1.0 / (2.0 * he_dt)), 'low')\n",
    "he_v_filtered = signal.filtfilt(b, a, he_v, axis=0)"
   ]
  },
  {
   "cell_type": "code",
   "execution_count": null,
   "metadata": {},
   "outputs": [],
   "source": [
    "e_v = np.linalg.norm(np.vstack((ve_v, he_v)), axis = 1)\n",
    "e_v_filtered = np.linalg.norm(np.vstack((ve_v_filtered, he_v_filtered)), axis = 1)"
   ]
  },
  {
   "cell_type": "code",
   "execution_count": null,
   "metadata": {},
   "outputs": [],
   "source": [
    "from scipy.signal import savgol_filter\n",
    "e_v_sg = savgol_filter(e_v_filtered, 31,9)"
   ]
  },
  {
   "cell_type": "code",
   "execution_count": null,
   "metadata": {},
   "outputs": [],
   "source": [
    "plt.figure(figsize=(20, 5))\n",
    "# plt.plot(e_v, alpha = 0.4)\n",
    "# plt.plot(e_v_filtered[0:1000], alpha = 0.5)\n",
    "plt.plot(e_v_sg,'b', alpha = 0.5)\n",
    "\n",
    "# plt.plot(np.diff(e_v_filtered), alpha = 0.5)"
   ]
  },
  {
   "cell_type": "code",
   "execution_count": null,
   "metadata": {},
   "outputs": [],
   "source": [
    "thresh = 25 # deg/s\n",
    "rising = e_v_sg > thresh\n",
    "rising[1:][rising[1:] & rising[:-1]] = False\n",
    "\n",
    "falling = e_v_sg > thresh\n",
    "falling[:-1][falling[1:] & falling[:-1]] = False\n",
    "\n",
    "\n",
    "\n",
    "from kaveh.plots import axvlines\n",
    "\n",
    "rising = np.where(rising == True)\n",
    "falling = np.where(falling == True)\n",
    "\n",
    "axvlines(plt.gca(), rising[0], color = 'r', alpha = 0.5)\n",
    "axvlines(plt.gca(), falling[0], color = 'g', alpha = 0.5)"
   ]
  }
 ],
 "metadata": {
  "kernelspec": {
   "display_name": "Python 2",
   "language": "python",
   "name": "python2"
  },
  "language_info": {
   "codemirror_mode": {
    "name": "ipython",
    "version": 2
   },
   "file_extension": ".py",
   "mimetype": "text/x-python",
   "name": "python",
   "nbconvert_exporter": "python",
   "pygments_lexer": "ipython2",
   "version": "2.7.12"
  }
 },
 "nbformat": 4,
 "nbformat_minor": 2
}
