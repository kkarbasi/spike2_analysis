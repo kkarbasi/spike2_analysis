{
 "cells": [
  {
   "cell_type": "code",
   "execution_count": null,
   "metadata": {},
   "outputs": [],
   "source": [
    "try:\n",
    "    import cPickle as pickle\n",
    "except ModuleNotFoundError:\n",
    "    import pickle\n",
    "    \n",
    "from smr import File\n",
    "import numpy as np\n",
    "from matplotlib import pyplot as plt\n",
    "from kaveh.behavioral import oculomotor\n",
    "from kaveh import plots\n",
    "import os\n",
    "import scipy.signal\n"
   ]
  },
  {
   "cell_type": "code",
   "execution_count": null,
   "metadata": {},
   "outputs": [],
   "source": [
    "%matplotlib notebook\n",
    "%load_ext autoreload\n",
    "%autoreload 2"
   ]
  },
  {
   "cell_type": "code",
   "execution_count": null,
   "metadata": {},
   "outputs": [],
   "source": [
    "# read the files, detect target jumps, and save the plots of the target position and target jump vectors to a png image file\n",
    "\n",
    "plt.ioff()\n",
    "source_path = '/mnt/papers/Herzfeld_Nat_Neurosci_2018/raw_data/2010_Adapt/'\n",
    "for root, dirnames, filenames in os.walk(source_path):\n",
    "    for filename in filenames:\n",
    "        if filename.endswith('smr'):\n",
    "            f_name = os.path.join(root,filename)\n",
    "            print(f_name)\n",
    "            smr_content = File(f_name)\n",
    "            smr_content.read_channels()\n",
    "            ht = smr_content.get_channel(3)\n",
    "            vt = smr_content.get_channel(4)\n",
    "            pos_2d = np.column_stack((vt.data, ht.data))\n",
    "            pos_norm = np.linalg.norm(pos_2d,  axis = -1)\n",
    "            pos_diff = np.abs(np.diff(pos_norm))\n",
    "            target_jump_indices = scipy.signal.find_peaks(pos_diff, prominence=200)[0]\n",
    "\n",
    "            # remove detected target jumps that are sequential (less than 5 samples apart)\n",
    "            to_delete = []\n",
    "            for i, tji in enumerate(target_jump_indices[1:]):\n",
    "                if tji - target_jump_indices[i] < 5:\n",
    "                    to_delete = to_delete + [i+1]\n",
    "            mask = np.ones(target_jump_indices.shape, dtype=bool)\n",
    "            mask[to_delete] = False\n",
    "            target_jump_indices = target_jump_indices[mask]\n",
    "            \n",
    "            jump_vecs_h = []\n",
    "            for tji in target_jump_indices:\n",
    "                jump_vecs_h = jump_vecs_h + [ht.data[tji + 5] - ht.data[tji - 5]]\n",
    "            jump_vecs_h = np.array(jump_vecs_h)    \n",
    "\n",
    "            jump_vecs_v = []\n",
    "            for tji in target_jump_indices:\n",
    "                jump_vecs_v = jump_vecs_v + [vt.data[tji + 5] - vt.data[tji - 5]]\n",
    "            jump_vecs_v = np.array(jump_vecs_v)\n",
    "            \n",
    "            jump_vecs = np.column_stack((jump_vecs_h, jump_vecs_v))\n",
    "            \n",
    "            f, (ax1, ax2) = plt.subplots(1, 2, figsize = (20,10))\n",
    "            ax1.set_ylim((-10000, 10000))\n",
    "            ax1.set_xlim((-10000, 10000))\n",
    "            ax1.plot(jump_vecs_h, jump_vecs_v, '.b', alpha = 0.07)\n",
    "            ax1.set_title('jump vectors')\n",
    "            ax2.set_ylim((-10000, 10000))\n",
    "            ax2.set_xlim((-10000, 10000))\n",
    "            ax2.plot(ht.data, vt.data, '.', alpha=0.1)\n",
    "            ax2.set_title('target position')\n",
    "            plt.savefig(os.path.join('../data/jump_vector_plots/', filename + '.png'))\n",
    "            plt.close(fig=f)\n",
    "        \n"
   ]
  },
  {
   "cell_type": "code",
   "execution_count": null,
   "metadata": {},
   "outputs": [],
   "source": [
    "# Read images sequentially and show them for 7 seconds\n",
    "\n",
    "# %matplotlib inline\n",
    "# import time\n",
    "# # import pylab as pl\n",
    "# from IPython import display\n",
    "# plt.figure(figsize=(20,10))\n",
    "# time.sleep(5.0)\n",
    "\n",
    "# source_path = '../data/jump_vector_plots/'\n",
    "# for root, dirnames, filenames in os.walk(source_path):\n",
    "#     for filename in filenames:\n",
    "#         if filename.endswith('png'):\n",
    "#             f_name = os.path.join(root,filename)\n",
    "#             img = plt.imread(f_name)\n",
    "#             plt.imshow(img)\n",
    "#             plt.title(f_name)\n",
    "#             display.clear_output(wait=True)\n",
    "#             display.display(plt.gcf())\n",
    "#             time.sleep(7.0)\n",
    "#             plt.cla()"
   ]
  },
  {
   "cell_type": "code",
   "execution_count": null,
   "metadata": {},
   "outputs": [],
   "source": [
    "source_path = '../data/jump_vector_plots/'\n",
    "for root, dirnames, filenames in os.walk(source_path):\n",
    "    for filename in filenames:\n",
    "        if filename.endswith('png'):\n",
    "            f_name = os.path.join(root,filename)\n",
    "            print(f_name)"
   ]
  },
  {
   "cell_type": "code",
   "execution_count": null,
   "metadata": {},
   "outputs": [],
   "source": []
  }
 ],
 "metadata": {
  "kernelspec": {
   "display_name": "Python 2",
   "language": "python",
   "name": "python2"
  },
  "language_info": {
   "codemirror_mode": {
    "name": "ipython",
    "version": 2
   },
   "file_extension": ".py",
   "mimetype": "text/x-python",
   "name": "python",
   "nbconvert_exporter": "python",
   "pygments_lexer": "ipython2",
   "version": "2.7.12"
  }
 },
 "nbformat": 4,
 "nbformat_minor": 2
}
