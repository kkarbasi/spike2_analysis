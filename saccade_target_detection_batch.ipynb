{
 "cells": [
  {
   "cell_type": "code",
   "execution_count": 6,
   "metadata": {},
   "outputs": [],
   "source": [
    "try:\n",
    "    import cPickle as pickle\n",
    "except ModuleNotFoundError:\n",
    "    import pickle\n",
    "\n",
    "from kaveh.behavioral.oculomotor.session import session\n",
    "from kaveh.toolbox import find_file\n",
    "from neo.io import Spike2IO\n",
    "from matplotlib import pyplot as plt\n",
    "import numpy as np\n",
    "\n",
    "import numpy as np\n",
    "from matplotlib import pyplot as plt\n",
    "# from neo.io import Spike2IO\n",
    "from kaveh.toolbox import closest_argmin, find_file\n",
    "from smr import File\n",
    "from kaveh.plots import axvlines\n",
    "import os\n",
    "from kaveh.sorting.spikesorter import SimpleSpikeSorter\n",
    "import sys\n",
    "\n",
    "from neo import Spike2IO\n",
    "from sklearn.mixture import GaussianMixture\n",
    "import csv\n",
    "import fnmatch"
   ]
  },
  {
   "cell_type": "code",
   "execution_count": 5,
   "metadata": {
    "scrolled": true
   },
   "outputs": [
    {
     "name": "stdout",
     "output_type": "stream",
     "text": [
      "0: /mnt/papers/Herzfeld_Nat_Neurosci_2018/raw_data/2006/Oscar/O22/O22_2Adapt_BW5L_FW5LCFRDone.smr\n",
      "1: /mnt/papers/Herzfeld_Nat_Neurosci_2018/raw_data/2006/Oscar/O22/O22_2PreAdaptCFRDone.smr\n",
      "2: /mnt/papers/Herzfeld_Nat_Neurosci_2018/raw_data/2006/Oscar/O13/O13_3_adapt40pct.smr\n",
      "3: /mnt/papers/Herzfeld_Nat_Neurosci_2018/raw_data/2006/Oscar/O13/O13_3_adapt30pct.smr\n",
      "4: /mnt/papers/Herzfeld_Nat_Neurosci_2018/raw_data/2006/Oscar/O13/O13_3_preadapt.smr\n",
      "5: /mnt/papers/Herzfeld_Nat_Neurosci_2018/raw_data/2006/Oscar/O13/O13_3_adapt40pctB.smr\n",
      "6: /mnt/papers/Herzfeld_Nat_Neurosci_2018/raw_data/2006/Oscar/O41/O41_1_FW5L_BW5R_A.smr\n",
      "7: /mnt/papers/Herzfeld_Nat_Neurosci_2018/raw_data/2006/Oscar/O41/O41_1_pre.smr\n",
      "8: /mnt/papers/Herzfeld_Nat_Neurosci_2018/raw_data/2006/Oscar/O29/O29_4Adapt_FW5L_BW5RCFR611sec.smr\n",
      "9: /mnt/papers/Herzfeld_Nat_Neurosci_2018/raw_data/2006/Oscar/O29/O29_4PreAdaptCFRDone.smr\n",
      "10: /mnt/papers/Herzfeld_Nat_Neurosci_2018/raw_data/2008_Random/Kimo/K14/error_direction/K14_1_directionaltest.smr\n",
      "11: /mnt/papers/Herzfeld_Nat_Neurosci_2018/raw_data/2008_Random/Kimo/K14/error_magnitude/K14_1_errorsizetest.smr\n",
      "12: /mnt/papers/Herzfeld_Nat_Neurosci_2018/raw_data/2008_Random/Kimo/K33/error_direction/K33_1dirtest.smr\n",
      "13: /mnt/papers/Herzfeld_Nat_Neurosci_2018/raw_data/2008_Random/Kimo/K33/error_direction/K33_2dirtest.smr\n",
      "14: /mnt/papers/Herzfeld_Nat_Neurosci_2018/raw_data/2008_Random/Kimo/K33/error_magnitude/K33_1Verrortest.smr\n",
      "15: /mnt/papers/Herzfeld_Nat_Neurosci_2018/raw_data/2008_Random/Kimo/K33/error_magnitude/K33_2Herrortest.smr\n",
      "16: /mnt/papers/Herzfeld_Nat_Neurosci_2018/raw_data/2008_Random/Kimo/K45/error_direction/K45_1_ErrorDirectionTest.smr\n",
      "17: /mnt/papers/Herzfeld_Nat_Neurosci_2018/raw_data/2008_Random/Kimo/K45/error_magnitude/K45_1_ErrorSizetest315degDir.smr\n",
      "18: /mnt/papers/Herzfeld_Nat_Neurosci_2018/raw_data/2008_Random/Kimo/K21/error_direction/K21_2_directionaltest.smr\n",
      "19: /mnt/papers/Herzfeld_Nat_Neurosci_2018/raw_data/2008_Random/Kimo/K69/error_direction/K69_1_DirTuning.smr\n",
      "20: /mnt/papers/Herzfeld_Nat_Neurosci_2018/raw_data/2008_Random/Kimo/K69/error_magnitude/K69_1_ErrorSize45degDir.smr\n",
      "21: /mnt/papers/Herzfeld_Nat_Neurosci_2018/raw_data/2008_Random/Kimo/K40/error_direction/K40_1_Dirtuning.smr\n",
      "22: /mnt/papers/Herzfeld_Nat_Neurosci_2018/raw_data/2008_Random/Kimo/K40/error_magnitude/K40_1_ErrorSizeHorLINCOR.smr\n",
      "23: /mnt/papers/Herzfeld_Nat_Neurosci_2018/raw_data/2008_Random/Kimo/K16/error_direction/K16_2_directionaltest.smr\n",
      "24: /mnt/papers/Herzfeld_Nat_Neurosci_2018/raw_data/2008_Random/Step/S38/error_direction/S38_1_directionaltuning.smr\n",
      "25: /mnt/papers/Herzfeld_Nat_Neurosci_2018/raw_data/2008_Random/Step/S38/error_magnitude/S38_1_315degErrorTest.smr\n",
      "26: /mnt/papers/Herzfeld_Nat_Neurosci_2018/raw_data/2008_Random/Step/S36/error_direction/S36_1_directionaltuning.smr\n",
      "27: /mnt/papers/Herzfeld_Nat_Neurosci_2018/raw_data/2008_Random/Step/S36/error_magnitude/S36_1_135degErrorTest.smr\n",
      "28: /mnt/papers/Herzfeld_Nat_Neurosci_2018/raw_data/2008_Random/Step/S27/error_direction/S27_1_DirectionalTuning.smr\n",
      "29: /mnt/papers/Herzfeld_Nat_Neurosci_2018/raw_data/2008_Random/Step/S27/error_magnitude/S27_1_HorzErrorSizetest.smr\n",
      "30: /mnt/papers/Herzfeld_Nat_Neurosci_2018/raw_data/2008_Random/Step/S34/error_direction/S34_2_directionaltuning.smr\n",
      "31: /mnt/papers/Herzfeld_Nat_Neurosci_2018/raw_data/2008_Random/Step/S34/error_direction/S34_1_directionaltuning.smr\n",
      "32: /mnt/papers/Herzfeld_Nat_Neurosci_2018/raw_data/2008_Random/Step/S34/error_magnitude/S34_2_315degErrorTest.smr\n",
      "33: /mnt/papers/Herzfeld_Nat_Neurosci_2018/raw_data/2010_Adapt/Wyatt/W111308/W111308_1604_Adapt.smr\n",
      "34: /mnt/papers/Herzfeld_Nat_Neurosci_2018/raw_data/2010_Adapt/Wyatt/W091008/W091008_1241_List.smr\n",
      "35: /mnt/papers/Herzfeld_Nat_Neurosci_2018/raw_data/2010_Adapt/Wyatt/W091008/W091008_1248_Adapt.smr\n",
      "36: /mnt/papers/Herzfeld_Nat_Neurosci_2018/raw_data/2010_Adapt/Wyatt/W120308_2/W120308_2_1714_List.smr\n",
      "37: /mnt/papers/Herzfeld_Nat_Neurosci_2018/raw_data/2010_Adapt/Wyatt/W120308_2/W120308_2_1622_Adapt.smr\n",
      "38: /mnt/papers/Herzfeld_Nat_Neurosci_2018/raw_data/2010_Adapt/Wyatt/W120108/W120108_1622_List.smr\n",
      "39: /mnt/papers/Herzfeld_Nat_Neurosci_2018/raw_data/2010_Adapt/Wyatt/W120108/W120108_1634_Adapt.smr\n",
      "40: /mnt/papers/Herzfeld_Nat_Neurosci_2018/raw_data/2010_Adapt/Wyatt/W120508_1/W120508_1_1429_Adapt.smr\n",
      "41: /mnt/papers/Herzfeld_Nat_Neurosci_2018/raw_data/2010_Adapt/Wyatt/W120508_1/W120508_1_1420_List.smr\n",
      "42: /mnt/papers/Herzfeld_Nat_Neurosci_2018/raw_data/2010_Adapt/Wyatt/W120508_2/W120508_2_1548_Adapt.smr\n",
      "43: /mnt/papers/Herzfeld_Nat_Neurosci_2018/raw_data/2010_Adapt/Wyatt/W120508_2/W120508_2_1628_List.smr\n",
      "44: /mnt/papers/Herzfeld_Nat_Neurosci_2018/raw_data/2010_Adapt/Wyatt/W091208/W091208_1348_Adapt.smr\n",
      "45: /mnt/papers/Herzfeld_Nat_Neurosci_2018/raw_data/2010_Adapt/Wyatt/W091208/W091208_1337_List.smr\n",
      "46: /mnt/papers/Herzfeld_Nat_Neurosci_2018/raw_data/2010_Adapt/Wyatt/W120208_1/W120208_1_1418_List.smr\n",
      "47: /mnt/papers/Herzfeld_Nat_Neurosci_2018/raw_data/2010_Adapt/Wyatt/W120208_1/W120208_1_1428_Adapt.smr\n",
      "48: /mnt/papers/Herzfeld_Nat_Neurosci_2018/raw_data/2010_Adapt/Buckley_25deg/B110807/B110807_1632_List.smr\n",
      "49: /mnt/papers/Herzfeld_Nat_Neurosci_2018/raw_data/2010_Adapt/Buckley_25deg/B101707/B101707_1333_List.smr\n",
      "50: /mnt/papers/Herzfeld_Nat_Neurosci_2018/raw_data/2010_Adapt/Buckley_25deg/B111507/B111507_1528_List.smr\n",
      "51: /mnt/papers/Herzfeld_Nat_Neurosci_2018/raw_data/2010_Adapt/Buckley_25deg/B082107/B082107_1340_List.smr\n",
      "52: /mnt/papers/Herzfeld_Nat_Neurosci_2018/raw_data/2010_Adapt/Buckley_25deg/B121407_1/B121407_1_1124_List.smr\n",
      "53: /mnt/papers/Herzfeld_Nat_Neurosci_2018/raw_data/2010_Adapt/Buckley_25deg/B121807/B121807_1135_List.smr\n",
      "54: /mnt/papers/Herzfeld_Nat_Neurosci_2018/raw_data/2010_Adapt/Buckley_25deg/B090407/B090407_1526_List.smr\n",
      "55: /mnt/papers/Herzfeld_Nat_Neurosci_2018/raw_data/2010_Adapt/Buckley_25deg/B082207/B082207_1505_List.smr\n",
      "56: /mnt/papers/Herzfeld_Nat_Neurosci_2018/raw_data/2010_Adapt/Buckley_25deg/B091707/B091707_1414_List.smr\n",
      "57: /mnt/papers/Herzfeld_Nat_Neurosci_2018/raw_data/2010_Adapt/Felix/F091106/F091106_0949_List.smr\n",
      "58: /mnt/papers/Herzfeld_Nat_Neurosci_2018/raw_data/2010_Adapt/Felix/F091106/F091106_1002_Adapt.smr\n",
      "59: /mnt/papers/Herzfeld_Nat_Neurosci_2018/raw_data/2010_Adapt/Felix/F090606/F090606_1325_Adapt.smr\n",
      "60: /mnt/papers/Herzfeld_Nat_Neurosci_2018/raw_data/2010_Adapt/Felix/F090606/F090606_1313_List.smr\n",
      "61: /mnt/papers/Herzfeld_Nat_Neurosci_2018/raw_data/2010_Adapt/Felix/F102506/F102506_1506_List.smr\n",
      "62: /mnt/papers/Herzfeld_Nat_Neurosci_2018/raw_data/2010_Adapt/Felix/F102506/F102506_1518_Adapt.smr\n",
      "63: /mnt/papers/Herzfeld_Nat_Neurosci_2018/raw_data/2010_Adapt/Felix/F112006/F112006_1446_List.smr\n",
      "64: /mnt/papers/Herzfeld_Nat_Neurosci_2018/raw_data/2010_Adapt/Felix/F112006/F112006_1501_Adapt.smr\n",
      "65: /mnt/papers/Herzfeld_Nat_Neurosci_2018/raw_data/2010_Adapt/Felix/F101106/F101106_1311_List.smr\n",
      "66: /mnt/papers/Herzfeld_Nat_Neurosci_2018/raw_data/2010_Adapt/Felix/F101106/F101106_1324_Adapt.smr\n",
      "67: /mnt/papers/Herzfeld_Nat_Neurosci_2018/raw_data/2010_Adapt/Felix/F102006/F102006_0933_Adapt.smr\n",
      "68: /mnt/papers/Herzfeld_Nat_Neurosci_2018/raw_data/2010_Adapt/Felix/F102006/F102006_0916_List.smr\n",
      "69: /mnt/papers/Herzfeld_Nat_Neurosci_2018/raw_data/2010_Adapt/Felix/F100906/F100906_1343_List.smr\n",
      "70: /mnt/papers/Herzfeld_Nat_Neurosci_2018/raw_data/2010_Adapt/Felix/F100906/F100906_1358_Adapt.smr\n",
      "71: /mnt/papers/Herzfeld_Nat_Neurosci_2018/raw_data/2010_Adapt/Felix/F110706/F110706_1413_List.smr\n",
      "72: /mnt/papers/Herzfeld_Nat_Neurosci_2018/raw_data/2010_Adapt/Felix/F110706/F110706_1421_Adapt.smr\n",
      "73: /mnt/papers/Herzfeld_Nat_Neurosci_2018/raw_data/2010_Adapt/Felix/F102706/F102706_1435_List.smr\n",
      "74: /mnt/papers/Herzfeld_Nat_Neurosci_2018/raw_data/2010_Adapt/Felix/F102706/F102706_1449_Adapt.smr\n",
      "75: /mnt/papers/Herzfeld_Nat_Neurosci_2018/raw_data/2010_Adapt/Felix/F101606/F101606_1323_Adapt.smr\n",
      "76: /mnt/papers/Herzfeld_Nat_Neurosci_2018/raw_data/2010_Adapt/Felix/F101606/F101606_1308_List.smr\n",
      "77: /mnt/papers/Herzfeld_Nat_Neurosci_2018/raw_data/2010_Adapt/Felix/F110206/F110206_1411_Adapt.smr\n",
      "78: /mnt/papers/Herzfeld_Nat_Neurosci_2018/raw_data/2010_Adapt/Felix/F110206/F110206_1400_List.smr\n",
      "79: /mnt/papers/Herzfeld_Nat_Neurosci_2018/raw_data/2010_Adapt/Buckley_12deg/B101308/B101308_1342_List.smr\n",
      "80: /mnt/papers/Herzfeld_Nat_Neurosci_2018/raw_data/2010_Adapt/Buckley_12deg/B101308/B101308_1351_Adapt.smr\n",
      "81: /mnt/papers/Herzfeld_Nat_Neurosci_2018/raw_data/2010_Adapt/Buckley_12deg/B101308/B101308_1443_AdaptForward.smr\n",
      "82: /mnt/papers/Herzfeld_Nat_Neurosci_2018/raw_data/2010_Adapt/Buckley_12deg/B091608/B091608_1218_Adapt.smr\n",
      "83: /mnt/papers/Herzfeld_Nat_Neurosci_2018/raw_data/2010_Adapt/Buckley_12deg/B091608/B091608_1306_AdaptForward.smr\n",
      "84: /mnt/papers/Herzfeld_Nat_Neurosci_2018/raw_data/2010_Adapt/Buckley_12deg/B091608/B091608_1429_AdaptCTRL.smr\n",
      "85: /mnt/papers/Herzfeld_Nat_Neurosci_2018/raw_data/2010_Adapt/Buckley_12deg/B091608/B091608_1208_List.smr\n",
      "86: /mnt/papers/Herzfeld_Nat_Neurosci_2018/raw_data/2010_Adapt/Buckley_12deg/B091908_2/B091908_2_1550_List.smr\n",
      "87: /mnt/papers/Herzfeld_Nat_Neurosci_2018/raw_data/2010_Adapt/Buckley_12deg/B091908_2/B091908_21602_Adapt.smr\n",
      "88: /mnt/papers/Herzfeld_Nat_Neurosci_2018/raw_data/2010_Adapt/Buckley_12deg/B091208/B091208_1545_List.smr\n",
      "89: /mnt/papers/Herzfeld_Nat_Neurosci_2018/raw_data/2010_Adapt/Buckley_12deg/B091208/B091208_AdaptForward.smr\n",
      "90: /mnt/papers/Herzfeld_Nat_Neurosci_2018/raw_data/2010_Adapt/Buckley_12deg/B091208/B091208_1554_Adapt.smr\n",
      "91: /mnt/papers/Herzfeld_Nat_Neurosci_2018/raw_data/2010_Adapt/Buckley_12deg/B100308_2/B100308_2_1403_List.smr\n",
      "92: /mnt/papers/Herzfeld_Nat_Neurosci_2018/raw_data/2010_Adapt/Buckley_12deg/B100308_2/B100308_2_1504_AdaptForward.smr\n",
      "93: /mnt/papers/Herzfeld_Nat_Neurosci_2018/raw_data/2010_Adapt/Buckley_12deg/B100308_2/B100308_2_1412_Adapt.smr\n",
      "94: /mnt/papers/Herzfeld_Nat_Neurosci_2018/raw_data/2010_Adapt/Buckley_12deg/B093008/B093008_1149_List.smr\n",
      "95: /mnt/papers/Herzfeld_Nat_Neurosci_2018/raw_data/2010_Adapt/Buckley_12deg/B093008/B093008_1200_Adapt.smr\n",
      "96: /mnt/papers/Herzfeld_Nat_Neurosci_2018/raw_data/2010_Adapt/Buckley_12deg/B093008/B093008_1242_AdaptForward.smr\n",
      "97: /mnt/papers/Herzfeld_Nat_Neurosci_2018/raw_data/2010_Adapt/Buckley_12deg/B091908_1/B091908_1_1509_Adapt.smr\n",
      "98: /mnt/papers/Herzfeld_Nat_Neurosci_2018/raw_data/2010_Adapt/Buckley_12deg/B091908_1/B091908_1_1500_List.smr\n"
     ]
    }
   ],
   "source": [
    "with open('../data/neurons_david_data_with_spike_train.csv', 'r') as csv_f:\n",
    "    reader = csv.reader(csv_f)\n",
    "    csv_content = np.array(list(reader))\n",
    "file_names = np.array([fn[0] for fn in csv_content])\n",
    "\n",
    "for i, fn in enumerate(file_names):\n",
    "    print('{}: {}'.format(i, fn))"
   ]
  },
  {
   "cell_type": "code",
   "execution_count": 7,
   "metadata": {},
   "outputs": [],
   "source": [
    "with open('../data/david_neurs.csv', 'r') as csv_f:\n",
    "    reader = csv.reader(csv_f)\n",
    "    csv_content = np.array(list(reader))\n",
    "neuron_names = np.array([fn[0].split('\\t')[0].split('\\t')[0] for fn in csv_content if fn[0][-1][-1] == '1'])\n",
    "\n",
    "file_names = []\n",
    "for nn in neuron_names:\n",
    "    matches = []\n",
    "    for root, dirnames, filenames in os.walk('../data/david_neurons/' + nn):\n",
    "        for filename in fnmatch.filter(filenames, '*.smr.pkl'):\n",
    "            matches.append(os.path.join(root, filename))\n",
    "    if matches:\n",
    "        for ff in matches:\n",
    "            if not os.path.exists(ff+'.session.pkl'):\n",
    "                file_names.append(os.path.basename(ff)[0:-4])\n",
    "                \n",
    "                "
   ]
  },
  {
   "cell_type": "code",
   "execution_count": 8,
   "metadata": {},
   "outputs": [
    {
     "name": "stdout",
     "output_type": "stream",
     "text": [
      "/mnt/papers/Herzfeld_Nat_Neurosci_2018/raw_data/2006/Pip/P21/P21_1 LBW5 RFW5 D.smr\n",
      "../data/david_neurons/P21/P21_1 LBW5 RFW5 D.smr.pkl\n"
     ]
    },
    {
     "name": "stderr",
     "output_type": "stream",
     "text": [
      "WARNING:root:Units \"Deg\" can not be converted to a quantity. Using dimensionless instead\n",
      "WARNING:root:Units \"Deg\" can not be converted to a quantity. Using dimensionless instead\n",
      "WARNING:root:Units \"Deg\" can not be converted to a quantity. Using dimensionless instead\n",
      "WARNING:root:Units \"Deg\" can not be converted to a quantity. Using dimensionless instead\n",
      "/usr/local/lib/python2.7/dist-packages/scipy/signal/_arraytools.py:45: FutureWarning: Using a non-tuple sequence for multidimensional indexing is deprecated; use `arr[tuple(seq)]` instead of `arr[seq]`. In the future this will be interpreted as an array index, `arr[np.array(seq)]`, which will result either in an error or a different result.\n",
      "  b = a[a_slice]\n"
     ]
    },
    {
     "name": "stdout",
     "output_type": "stream",
     "text": [
      "writing\n",
      "../data/david_neurons/P21/P21_1 LBW5 RFW5 D.smr.pkl.session.pkl\n",
      "writing ../data/david_neurons/P21/P21_1 LBW5 RFW5 D.smr.pkl.session.pkl ...\n",
      "/mnt/papers/Herzfeld_Nat_Neurosci_2018/raw_data/2006/Pip/P21/P21_1 LFW5 RBW5 C.smr\n",
      "../data/david_neurons/P21/P21_1 LFW5 RBW5 C.smr.pkl\n"
     ]
    },
    {
     "name": "stderr",
     "output_type": "stream",
     "text": [
      "WARNING:root:Units \"Deg\" can not be converted to a quantity. Using dimensionless instead\n",
      "WARNING:root:Units \"Deg\" can not be converted to a quantity. Using dimensionless instead\n",
      "WARNING:root:Units \"Deg\" can not be converted to a quantity. Using dimensionless instead\n",
      "WARNING:root:Units \"Deg\" can not be converted to a quantity. Using dimensionless instead\n"
     ]
    },
    {
     "name": "stdout",
     "output_type": "stream",
     "text": [
      "writing\n",
      "../data/david_neurons/P21/P21_1 LFW5 RBW5 C.smr.pkl.session.pkl\n",
      "writing ../data/david_neurons/P21/P21_1 LFW5 RBW5 C.smr.pkl.session.pkl ...\n",
      "/mnt/papers/Herzfeld_Nat_Neurosci_2018/raw_data/2006/Pip/P21/P21_1 pre A.smr\n",
      "../data/david_neurons/P21/P21_1 pre A.smr.pkl\n"
     ]
    },
    {
     "name": "stderr",
     "output_type": "stream",
     "text": [
      "WARNING:root:Units \"Deg\" can not be converted to a quantity. Using dimensionless instead\n",
      "WARNING:root:Units \"Deg\" can not be converted to a quantity. Using dimensionless instead\n",
      "WARNING:root:Units \"Deg\" can not be converted to a quantity. Using dimensionless instead\n",
      "WARNING:root:Units \"Deg\" can not be converted to a quantity. Using dimensionless instead\n"
     ]
    },
    {
     "name": "stdout",
     "output_type": "stream",
     "text": [
      "writing\n",
      "../data/david_neurons/P21/P21_1 pre A.smr.pkl.session.pkl\n",
      "writing ../data/david_neurons/P21/P21_1 pre A.smr.pkl.session.pkl ...\n",
      "/mnt/papers/Herzfeld_Nat_Neurosci_2018/raw_data/2006/Pip/P21/P21_1 LBW5 RFW5 B.smr\n",
      "../data/david_neurons/P21/P21_1 LBW5 RFW5 B.smr.pkl\n"
     ]
    },
    {
     "name": "stderr",
     "output_type": "stream",
     "text": [
      "WARNING:root:Units \"Deg\" can not be converted to a quantity. Using dimensionless instead\n",
      "WARNING:root:Units \"Deg\" can not be converted to a quantity. Using dimensionless instead\n",
      "WARNING:root:Units \"Deg\" can not be converted to a quantity. Using dimensionless instead\n",
      "WARNING:root:Units \"Deg\" can not be converted to a quantity. Using dimensionless instead\n"
     ]
    },
    {
     "name": "stdout",
     "output_type": "stream",
     "text": [
      "writing\n",
      "../data/david_neurons/P21/P21_1 LBW5 RFW5 B.smr.pkl.session.pkl\n",
      "writing ../data/david_neurons/P21/P21_1 LBW5 RFW5 B.smr.pkl.session.pkl ...\n",
      "/mnt/papers/Herzfeld_Nat_Neurosci_2018/raw_data/2006/Pip/P03/P03_2 rfw5 lbw5 C.smr\n",
      "../data/david_neurons/P03/P03_2 rfw5 lbw5 C.smr.pkl\n"
     ]
    },
    {
     "name": "stderr",
     "output_type": "stream",
     "text": [
      "WARNING:root:Units \"Deg\" can not be converted to a quantity. Using dimensionless instead\n",
      "WARNING:root:Units \"Deg\" can not be converted to a quantity. Using dimensionless instead\n",
      "WARNING:root:Units \"Deg\" can not be converted to a quantity. Using dimensionless instead\n",
      "WARNING:root:Units \"Deg\" can not be converted to a quantity. Using dimensionless instead\n"
     ]
    },
    {
     "name": "stdout",
     "output_type": "stream",
     "text": [
      "writing\n",
      "../data/david_neurons/P03/P03_2 rfw5 lbw5 C.smr.pkl.session.pkl\n",
      "writing ../data/david_neurons/P03/P03_2 rfw5 lbw5 C.smr.pkl.session.pkl ...\n",
      "/mnt/papers/Herzfeld_Nat_Neurosci_2018/raw_data/2006/Pip/P03/P03_2 pre A.smr\n",
      "../data/david_neurons/P03/P03_2 pre A.smr.pkl\n"
     ]
    },
    {
     "name": "stderr",
     "output_type": "stream",
     "text": [
      "WARNING:root:Units \"Deg\" can not be converted to a quantity. Using dimensionless instead\n",
      "WARNING:root:Units \"Deg\" can not be converted to a quantity. Using dimensionless instead\n",
      "WARNING:root:Units \"Deg\" can not be converted to a quantity. Using dimensionless instead\n",
      "WARNING:root:Units \"Deg\" can not be converted to a quantity. Using dimensionless instead\n"
     ]
    },
    {
     "name": "stdout",
     "output_type": "stream",
     "text": [
      "writing\n",
      "../data/david_neurons/P03/P03_2 pre A.smr.pkl.session.pkl\n",
      "writing ../data/david_neurons/P03/P03_2 pre A.smr.pkl.session.pkl ...\n",
      "/mnt/papers/Herzfeld_Nat_Neurosci_2018/raw_data/2006/Pip/P03/P03_2 rbw5 lfw5 G.smr\n",
      "../data/david_neurons/P03/P03_2 rbw5 lfw5 G.smr.pkl\n"
     ]
    },
    {
     "name": "stderr",
     "output_type": "stream",
     "text": [
      "WARNING:root:Units \"Deg\" can not be converted to a quantity. Using dimensionless instead\n",
      "WARNING:root:Units \"Deg\" can not be converted to a quantity. Using dimensionless instead\n",
      "WARNING:root:Units \"Deg\" can not be converted to a quantity. Using dimensionless instead\n",
      "WARNING:root:Units \"Deg\" can not be converted to a quantity. Using dimensionless instead\n"
     ]
    },
    {
     "name": "stdout",
     "output_type": "stream",
     "text": [
      "writing\n",
      "../data/david_neurons/P03/P03_2 rbw5 lfw5 G.smr.pkl.session.pkl\n",
      "writing ../data/david_neurons/P03/P03_2 rbw5 lfw5 G.smr.pkl.session.pkl ...\n",
      "/mnt/papers/Herzfeld_Nat_Neurosci_2018/raw_data/2006/Pip/P03/P03_2 rfw5 lbw8 E.smr\n",
      "../data/david_neurons/P03/P03_2 rfw5 lbw8 E.smr.pkl\n"
     ]
    },
    {
     "name": "stderr",
     "output_type": "stream",
     "text": [
      "WARNING:root:Units \"Deg\" can not be converted to a quantity. Using dimensionless instead\n",
      "WARNING:root:Units \"Deg\" can not be converted to a quantity. Using dimensionless instead\n",
      "WARNING:root:Units \"Deg\" can not be converted to a quantity. Using dimensionless instead\n",
      "WARNING:root:Units \"Deg\" can not be converted to a quantity. Using dimensionless instead\n"
     ]
    },
    {
     "name": "stdout",
     "output_type": "stream",
     "text": [
      "writing\n",
      "../data/david_neurons/P03/P03_2 rfw5 lbw8 E.smr.pkl.session.pkl\n",
      "writing ../data/david_neurons/P03/P03_2 rfw5 lbw8 E.smr.pkl.session.pkl ...\n",
      "/mnt/papers/Herzfeld_Nat_Neurosci_2018/raw_data/2006/Pip/P03/P03_2 rbw5 lfw5 B.smr\n",
      "../data/david_neurons/P03/P03_2 rbw5 lfw5 B.smr.pkl\n"
     ]
    },
    {
     "name": "stderr",
     "output_type": "stream",
     "text": [
      "WARNING:root:Units \"Deg\" can not be converted to a quantity. Using dimensionless instead\n",
      "WARNING:root:Units \"Deg\" can not be converted to a quantity. Using dimensionless instead\n",
      "WARNING:root:Units \"Deg\" can not be converted to a quantity. Using dimensionless instead\n",
      "WARNING:root:Units \"Deg\" can not be converted to a quantity. Using dimensionless instead\n"
     ]
    },
    {
     "name": "stdout",
     "output_type": "stream",
     "text": [
      "writing\n",
      "../data/david_neurons/P03/P03_2 rbw5 lfw5 B.smr.pkl.session.pkl\n",
      "writing ../data/david_neurons/P03/P03_2 rbw5 lfw5 B.smr.pkl.session.pkl ...\n",
      "/mnt/papers/Herzfeld_Nat_Neurosci_2018/raw_data/2006/Pip/P03/P03_2 rfw8 lbw8 D.smr\n",
      "../data/david_neurons/P03/P03_2 rfw8 lbw8 D.smr.pkl\n"
     ]
    },
    {
     "name": "stderr",
     "output_type": "stream",
     "text": [
      "WARNING:root:Units \"Deg\" can not be converted to a quantity. Using dimensionless instead\n",
      "WARNING:root:Units \"Deg\" can not be converted to a quantity. Using dimensionless instead\n",
      "WARNING:root:Units \"Deg\" can not be converted to a quantity. Using dimensionless instead\n",
      "WARNING:root:Units \"Deg\" can not be converted to a quantity. Using dimensionless instead\n"
     ]
    },
    {
     "name": "stdout",
     "output_type": "stream",
     "text": [
      "writing\n",
      "../data/david_neurons/P03/P03_2 rfw8 lbw8 D.smr.pkl.session.pkl\n",
      "writing ../data/david_neurons/P03/P03_2 rfw8 lbw8 D.smr.pkl.session.pkl ...\n",
      "/mnt/papers/Herzfeld_Nat_Neurosci_2018/raw_data/2006/Pip/P03/P03_2 rbw5 lfw5 F.smr\n",
      "../data/david_neurons/P03/P03_2 rbw5 lfw5 F.smr.pkl\n"
     ]
    },
    {
     "name": "stderr",
     "output_type": "stream",
     "text": [
      "WARNING:root:Units \"Deg\" can not be converted to a quantity. Using dimensionless instead\n",
      "WARNING:root:Units \"Deg\" can not be converted to a quantity. Using dimensionless instead\n",
      "WARNING:root:Units \"Deg\" can not be converted to a quantity. Using dimensionless instead\n",
      "WARNING:root:Units \"Deg\" can not be converted to a quantity. Using dimensionless instead\n"
     ]
    },
    {
     "name": "stdout",
     "output_type": "stream",
     "text": [
      "writing\n",
      "../data/david_neurons/P03/P03_2 rbw5 lfw5 F.smr.pkl.session.pkl\n",
      "writing ../data/david_neurons/P03/P03_2 rbw5 lfw5 F.smr.pkl.session.pkl ...\n",
      "/mnt/papers/Herzfeld_Nat_Neurosci_2018/raw_data/2006/Pip/P24/P24_1 LFW5 RBW5 B.smr\n",
      "../data/david_neurons/P24/P24_1 LFW5 RBW5 B.smr.pkl\n"
     ]
    },
    {
     "name": "stderr",
     "output_type": "stream",
     "text": [
      "WARNING:root:Units \"Deg\" can not be converted to a quantity. Using dimensionless instead\n",
      "WARNING:root:Units \"Deg\" can not be converted to a quantity. Using dimensionless instead\n",
      "WARNING:root:Units \"Deg\" can not be converted to a quantity. Using dimensionless instead\n",
      "WARNING:root:Units \"Deg\" can not be converted to a quantity. Using dimensionless instead\n"
     ]
    },
    {
     "name": "stdout",
     "output_type": "stream",
     "text": [
      "writing\n",
      "../data/david_neurons/P24/P24_1 LFW5 RBW5 B.smr.pkl.session.pkl\n",
      "writing ../data/david_neurons/P24/P24_1 LFW5 RBW5 B.smr.pkl.session.pkl ...\n",
      "/mnt/papers/Herzfeld_Nat_Neurosci_2018/raw_data/2006/Pip/P24/P24_1 LFW1.5 RBW3.5 E.smr\n",
      "../data/david_neurons/P24/P24_1 LFW1.5 RBW3.5 E.smr.pkl\n"
     ]
    },
    {
     "name": "stderr",
     "output_type": "stream",
     "text": [
      "WARNING:root:Units \"Deg\" can not be converted to a quantity. Using dimensionless instead\n",
      "WARNING:root:Units \"Deg\" can not be converted to a quantity. Using dimensionless instead\n",
      "WARNING:root:Units \"Deg\" can not be converted to a quantity. Using dimensionless instead\n",
      "WARNING:root:Units \"Deg\" can not be converted to a quantity. Using dimensionless instead\n"
     ]
    },
    {
     "name": "stdout",
     "output_type": "stream",
     "text": [
      "writing\n",
      "../data/david_neurons/P24/P24_1 LFW1.5 RBW3.5 E.smr.pkl.session.pkl\n",
      "writing ../data/david_neurons/P24/P24_1 LFW1.5 RBW3.5 E.smr.pkl.session.pkl ...\n",
      "/mnt/papers/Herzfeld_Nat_Neurosci_2018/raw_data/2006/Pip/P24/P24_1 LFW1.5 RBW1.5 F.smr\n",
      "../data/david_neurons/P24/P24_1 LFW1.5 RBW1.5 F.smr.pkl\n"
     ]
    },
    {
     "name": "stderr",
     "output_type": "stream",
     "text": [
      "WARNING:root:Units \"Deg\" can not be converted to a quantity. Using dimensionless instead\n",
      "WARNING:root:Units \"Deg\" can not be converted to a quantity. Using dimensionless instead\n",
      "WARNING:root:Units \"Deg\" can not be converted to a quantity. Using dimensionless instead\n",
      "WARNING:root:Units \"Deg\" can not be converted to a quantity. Using dimensionless instead\n"
     ]
    },
    {
     "name": "stdout",
     "output_type": "stream",
     "text": [
      "writing\n",
      "../data/david_neurons/P24/P24_1 LFW1.5 RBW1.5 F.smr.pkl.session.pkl\n",
      "writing ../data/david_neurons/P24/P24_1 LFW1.5 RBW1.5 F.smr.pkl.session.pkl ...\n",
      "/mnt/papers/Herzfeld_Nat_Neurosci_2018/raw_data/2006/Pip/P24/P24_1 LFW5 RBW5 D.smr\n",
      "../data/david_neurons/P24/P24_1 LFW5 RBW5 D.smr.pkl\n"
     ]
    },
    {
     "name": "stderr",
     "output_type": "stream",
     "text": [
      "WARNING:root:Units \"Deg\" can not be converted to a quantity. Using dimensionless instead\n",
      "WARNING:root:Units \"Deg\" can not be converted to a quantity. Using dimensionless instead\n",
      "WARNING:root:Units \"Deg\" can not be converted to a quantity. Using dimensionless instead\n",
      "WARNING:root:Units \"Deg\" can not be converted to a quantity. Using dimensionless instead\n"
     ]
    },
    {
     "name": "stdout",
     "output_type": "stream",
     "text": [
      "writing\n",
      "../data/david_neurons/P24/P24_1 LFW5 RBW5 D.smr.pkl.session.pkl\n",
      "writing ../data/david_neurons/P24/P24_1 LFW5 RBW5 D.smr.pkl.session.pkl ...\n",
      "/mnt/papers/Herzfeld_Nat_Neurosci_2018/raw_data/2006/Pip/P24/P24_1 LBW5 RFW5 C.smr\n",
      "../data/david_neurons/P24/P24_1 LBW5 RFW5 C.smr.pkl\n"
     ]
    },
    {
     "name": "stderr",
     "output_type": "stream",
     "text": [
      "WARNING:root:Units \"Deg\" can not be converted to a quantity. Using dimensionless instead\n",
      "WARNING:root:Units \"Deg\" can not be converted to a quantity. Using dimensionless instead\n",
      "WARNING:root:Units \"Deg\" can not be converted to a quantity. Using dimensionless instead\n",
      "WARNING:root:Units \"Deg\" can not be converted to a quantity. Using dimensionless instead\n"
     ]
    },
    {
     "name": "stdout",
     "output_type": "stream",
     "text": [
      "writing\n",
      "../data/david_neurons/P24/P24_1 LBW5 RFW5 C.smr.pkl.session.pkl\n",
      "writing ../data/david_neurons/P24/P24_1 LBW5 RFW5 C.smr.pkl.session.pkl ...\n",
      "/mnt/papers/Herzfeld_Nat_Neurosci_2018/raw_data/2006/Pip/P24/P24_1 pre A.smr\n",
      "../data/david_neurons/P24/P24_1 pre A.smr.pkl\n"
     ]
    },
    {
     "name": "stderr",
     "output_type": "stream",
     "text": [
      "WARNING:root:Units \"Deg\" can not be converted to a quantity. Using dimensionless instead\n",
      "WARNING:root:Units \"Deg\" can not be converted to a quantity. Using dimensionless instead\n",
      "WARNING:root:Units \"Deg\" can not be converted to a quantity. Using dimensionless instead\n",
      "WARNING:root:Units \"Deg\" can not be converted to a quantity. Using dimensionless instead\n"
     ]
    },
    {
     "name": "stdout",
     "output_type": "stream",
     "text": [
      "writing\n",
      "../data/david_neurons/P24/P24_1 pre A.smr.pkl.session.pkl\n",
      "writing ../data/david_neurons/P24/P24_1 pre A.smr.pkl.session.pkl ...\n",
      "/mnt/papers/Herzfeld_Nat_Neurosci_2018/raw_data/2006/Pip/P26/P26_1 pre A.smr\n",
      "../data/david_neurons/P26/P26_1 pre A.smr.pkl\n"
     ]
    },
    {
     "name": "stderr",
     "output_type": "stream",
     "text": [
      "WARNING:root:Units \"Deg\" can not be converted to a quantity. Using dimensionless instead\n",
      "WARNING:root:Units \"Deg\" can not be converted to a quantity. Using dimensionless instead\n",
      "WARNING:root:Units \"Deg\" can not be converted to a quantity. Using dimensionless instead\n",
      "WARNING:root:Units \"Deg\" can not be converted to a quantity. Using dimensionless instead\n"
     ]
    },
    {
     "name": "stdout",
     "output_type": "stream",
     "text": [
      "writing\n",
      "../data/david_neurons/P26/P26_1 pre A.smr.pkl.session.pkl\n",
      "writing ../data/david_neurons/P26/P26_1 pre A.smr.pkl.session.pkl ...\n",
      "/mnt/papers/Herzfeld_Nat_Neurosci_2018/raw_data/2006/Pip/P26/P26_1_LFW5 RBW5 B.smr\n",
      "../data/david_neurons/P26/P26_1_LFW5 RBW5 B.smr.pkl\n"
     ]
    },
    {
     "name": "stderr",
     "output_type": "stream",
     "text": [
      "WARNING:root:Units \"Deg\" can not be converted to a quantity. Using dimensionless instead\n",
      "WARNING:root:Units \"Deg\" can not be converted to a quantity. Using dimensionless instead\n",
      "WARNING:root:Units \"Deg\" can not be converted to a quantity. Using dimensionless instead\n",
      "WARNING:root:Units \"Deg\" can not be converted to a quantity. Using dimensionless instead\n"
     ]
    },
    {
     "name": "stdout",
     "output_type": "stream",
     "text": [
      "writing\n",
      "../data/david_neurons/P26/P26_1_LFW5 RBW5 B.smr.pkl.session.pkl\n",
      "writing ../data/david_neurons/P26/P26_1_LFW5 RBW5 B.smr.pkl.session.pkl ...\n",
      "/mnt/papers/Herzfeld_Nat_Neurosci_2018/raw_data/2006/Oscar/O89/O89_1LargeHor_c.smr\n",
      "../data/david_neurons/O89/O89_1LargeHor_c.smr.pkl\n"
     ]
    },
    {
     "name": "stderr",
     "output_type": "stream",
     "text": [
      "WARNING:root:Units \"Deg\" can not be converted to a quantity. Using dimensionless instead\n",
      "WARNING:root:Units \"Deg\" can not be converted to a quantity. Using dimensionless instead\n",
      "WARNING:root:Units \"Deg\" can not be converted to a quantity. Using dimensionless instead\n",
      "WARNING:root:Units \"Deg\" can not be converted to a quantity. Using dimensionless instead\n"
     ]
    },
    {
     "name": "stdout",
     "output_type": "stream",
     "text": [
      "writing\n",
      "../data/david_neurons/O89/O89_1LargeHor_c.smr.pkl.session.pkl\n",
      "writing ../data/david_neurons/O89/O89_1LargeHor_c.smr.pkl.session.pkl ...\n",
      "/mnt/papers/Herzfeld_Nat_Neurosci_2018/raw_data/2006/Oscar/O60/O60_1_BW5L_FW5R_C.smr\n",
      "../data/david_neurons/O60/O60_1_BW5L_FW5R_C.smr.pkl\n"
     ]
    },
    {
     "name": "stderr",
     "output_type": "stream",
     "text": [
      "WARNING:root:Units \"Deg\" can not be converted to a quantity. Using dimensionless instead\n",
      "WARNING:root:Units \"Deg\" can not be converted to a quantity. Using dimensionless instead\n",
      "WARNING:root:Units \"Deg\" can not be converted to a quantity. Using dimensionless instead\n",
      "WARNING:root:Units \"Deg\" can not be converted to a quantity. Using dimensionless instead\n"
     ]
    },
    {
     "name": "stdout",
     "output_type": "stream",
     "text": [
      "writing\n",
      "../data/david_neurons/O60/O60_1_BW5L_FW5R_C.smr.pkl.session.pkl\n",
      "writing ../data/david_neurons/O60/O60_1_BW5L_FW5R_C.smr.pkl.session.pkl ...\n",
      "/mnt/papers/Herzfeld_Nat_Neurosci_2018/raw_data/2006/Oscar/O60/O60_1_Preadapt.smr\n",
      "../data/david_neurons/O60/O60_1_Preadapt.smr.pkl\n"
     ]
    },
    {
     "name": "stderr",
     "output_type": "stream",
     "text": [
      "WARNING:root:Units \"Deg\" can not be converted to a quantity. Using dimensionless instead\n",
      "WARNING:root:Units \"Deg\" can not be converted to a quantity. Using dimensionless instead\n",
      "WARNING:root:Units \"Deg\" can not be converted to a quantity. Using dimensionless instead\n",
      "WARNING:root:Units \"Deg\" can not be converted to a quantity. Using dimensionless instead\n"
     ]
    },
    {
     "name": "stdout",
     "output_type": "stream",
     "text": [
      "writing\n",
      "../data/david_neurons/O60/O60_1_Preadapt.smr.pkl.session.pkl\n",
      "writing ../data/david_neurons/O60/O60_1_Preadapt.smr.pkl.session.pkl ...\n",
      "/mnt/papers/Herzfeld_Nat_Neurosci_2018/raw_data/2006/Oscar/O60/O60_1_FW5L_BW5R_D.smr\n",
      "../data/david_neurons/O60/O60_1_FW5L_BW5R_D.smr.pkl\n"
     ]
    },
    {
     "name": "stderr",
     "output_type": "stream",
     "text": [
      "WARNING:root:Units \"Deg\" can not be converted to a quantity. Using dimensionless instead\n",
      "WARNING:root:Units \"Deg\" can not be converted to a quantity. Using dimensionless instead\n",
      "WARNING:root:Units \"Deg\" can not be converted to a quantity. Using dimensionless instead\n",
      "WARNING:root:Units \"Deg\" can not be converted to a quantity. Using dimensionless instead\n"
     ]
    },
    {
     "name": "stdout",
     "output_type": "stream",
     "text": [
      "writing\n",
      "../data/david_neurons/O60/O60_1_FW5L_BW5R_D.smr.pkl.session.pkl\n",
      "writing ../data/david_neurons/O60/O60_1_FW5L_BW5R_D.smr.pkl.session.pkl ...\n",
      "/mnt/papers/Herzfeld_Nat_Neurosci_2018/raw_data/2006/Oscar/O60/O60_1_FW5L_BW5R_B.smr\n",
      "../data/david_neurons/O60/O60_1_FW5L_BW5R_B.smr.pkl\n"
     ]
    },
    {
     "name": "stderr",
     "output_type": "stream",
     "text": [
      "WARNING:root:Units \"Deg\" can not be converted to a quantity. Using dimensionless instead\n",
      "WARNING:root:Units \"Deg\" can not be converted to a quantity. Using dimensionless instead\n",
      "WARNING:root:Units \"Deg\" can not be converted to a quantity. Using dimensionless instead\n",
      "WARNING:root:Units \"Deg\" can not be converted to a quantity. Using dimensionless instead\n"
     ]
    },
    {
     "name": "stdout",
     "output_type": "stream",
     "text": [
      "writing\n",
      "../data/david_neurons/O60/O60_1_FW5L_BW5R_B.smr.pkl.session.pkl\n",
      "writing ../data/david_neurons/O60/O60_1_FW5L_BW5R_B.smr.pkl.session.pkl ...\n",
      "/mnt/papers/Herzfeld_Nat_Neurosci_2018/raw_data/2006/Oscar/O60/O60_1_FW3L_BW3R_A.smr\n",
      "../data/david_neurons/O60/O60_1_FW3L_BW3R_A.smr.pkl\n"
     ]
    },
    {
     "name": "stderr",
     "output_type": "stream",
     "text": [
      "WARNING:root:Units \"Deg\" can not be converted to a quantity. Using dimensionless instead\n",
      "WARNING:root:Units \"Deg\" can not be converted to a quantity. Using dimensionless instead\n",
      "WARNING:root:Units \"Deg\" can not be converted to a quantity. Using dimensionless instead\n",
      "WARNING:root:Units \"Deg\" can not be converted to a quantity. Using dimensionless instead\n",
      "WARNING:root:Units \"Deg\" can not be converted to a quantity. Using dimensionless instead\n"
     ]
    },
    {
     "name": "stdout",
     "output_type": "stream",
     "text": [
      "writing\n",
      "../data/david_neurons/O60/O60_1_FW3L_BW3R_A.smr.pkl.session.pkl\n",
      "writing ../data/david_neurons/O60/O60_1_FW3L_BW3R_A.smr.pkl.session.pkl ...\n",
      "/mnt/papers/Herzfeld_Nat_Neurosci_2018/raw_data/2006/Oscar/O83/O83_1_mix_N_FW5L_BW5R_A.smr\n",
      "../data/david_neurons/O84/O83_1_mix_N_FW5L_BW5R_A.smr.pkl\n"
     ]
    },
    {
     "name": "stderr",
     "output_type": "stream",
     "text": [
      "WARNING:root:Units \"Deg\" can not be converted to a quantity. Using dimensionless instead\n",
      "WARNING:root:Units \"Deg\" can not be converted to a quantity. Using dimensionless instead\n",
      "WARNING:root:Units \"Deg\" can not be converted to a quantity. Using dimensionless instead\n"
     ]
    },
    {
     "name": "stdout",
     "output_type": "stream",
     "text": [
      "writing\n",
      "../data/david_neurons/O84/O83_1_mix_N_FW5L_BW5R_A.smr.pkl.session.pkl\n",
      "writing ../data/david_neurons/O84/O83_1_mix_N_FW5L_BW5R_A.smr.pkl.session.pkl ...\n",
      "/mnt/papers/Herzfeld_Nat_Neurosci_2018/raw_data/2008_Random/Kimo/K32/K32_1control.smr\n",
      "../data/david_neurons/K32/K32_1control.smr.pkl\n",
      "writing\n",
      "../data/david_neurons/K32/K32_1control.smr.pkl.session.pkl\n",
      "writing ../data/david_neurons/K32/K32_1control.smr.pkl.session.pkl ...\n",
      "/mnt/papers/Herzfeld_Nat_Neurosci_2018/raw_data/2008_Random/Kimo/K32/K32_1oblRBWLBWadapt.smr\n",
      "../data/david_neurons/K32/K32_1oblRBWLBWadapt.smr.pkl\n",
      "writing\n",
      "../data/david_neurons/K32/K32_1oblRBWLBWadapt.smr.pkl.session.pkl\n",
      "writing ../data/david_neurons/K32/K32_1oblRBWLBWadapt.smr.pkl.session.pkl ...\n",
      "/mnt/papers/Herzfeld_Nat_Neurosci_2018/raw_data/2008_Random/Kimo/K32/error_direction/K32_1dirtest.smr\n",
      "../data/david_neurons/K32/error_direction/K32_1dirtest.smr.pkl\n",
      "writing\n",
      "../data/david_neurons/K32/error_direction/K32_1dirtest.smr.pkl.session.pkl\n",
      "writing ../data/david_neurons/K32/error_direction/K32_1dirtest.smr.pkl.session.pkl ...\n",
      "/mnt/papers/Herzfeld_Nat_Neurosci_2018/raw_data/2008_Random/Kimo/K32/error_magintude/K32_1Herrortest.smr\n",
      "../data/david_neurons/K32/error_magintude/K32_1Herrortest.smr.pkl\n",
      "writing\n",
      "../data/david_neurons/K32/error_magintude/K32_1Herrortest.smr.pkl.session.pkl\n",
      "writing ../data/david_neurons/K32/error_magintude/K32_1Herrortest.smr.pkl.session.pkl ...\n",
      "/mnt/papers/Herzfeld_Nat_Neurosci_2018/raw_data/2008_Random/Kimo/K32/error_magintude/K32_1obl45errortest.smr\n",
      "../data/david_neurons/K32/error_magintude/K32_1obl45errortest.smr.pkl\n",
      "writing\n",
      "../data/david_neurons/K32/error_magintude/K32_1obl45errortest.smr.pkl.session.pkl\n",
      "writing ../data/david_neurons/K32/error_magintude/K32_1obl45errortest.smr.pkl.session.pkl ...\n",
      "/mnt/papers/Herzfeld_Nat_Neurosci_2018/raw_data/2008_Random/Kimo/K57/K57_2_8dir_blanked.smr\n",
      "../data/david_neurons/K57/K57_2_8dir_blanked.smr.pkl\n",
      "writing\n",
      "../data/david_neurons/K57/K57_2_8dir_blanked.smr.pkl.session.pkl\n",
      "writing ../data/david_neurons/K57/K57_2_8dir_blanked.smr.pkl.session.pkl ...\n",
      "/mnt/papers/Herzfeld_Nat_Neurosci_2018/raw_data/2008_Random/Kimo/K57/K57_1_8dir_blanked.smr\n",
      "../data/david_neurons/K57/K57_1_8dir_blanked.smr.pkl\n",
      "writing\n",
      "../data/david_neurons/K57/K57_1_8dir_blanked.smr.pkl.session.pkl\n",
      "writing ../data/david_neurons/K57/K57_1_8dir_blanked.smr.pkl.session.pkl ...\n",
      "/mnt/papers/Herzfeld_Nat_Neurosci_2018/raw_data/2008_Random/Kimo/K57/K57_1_SStuning.smr\n",
      "../data/david_neurons/K57/K57_1_SStuning.smr.pkl\n",
      "writing\n",
      "../data/david_neurons/K57/K57_1_SStuning.smr.pkl.session.pkl\n",
      "writing ../data/david_neurons/K57/K57_1_SStuning.smr.pkl.session.pkl ...\n",
      "/mnt/papers/Herzfeld_Nat_Neurosci_2018/raw_data/2008_Random/Kimo/K57/error_direction/K57_2_CSdirtuning.smr\n",
      "../data/david_neurons/K57/error_direction/K57_2_CSdirtuning.smr.pkl\n",
      "writing\n",
      "../data/david_neurons/K57/error_direction/K57_2_CSdirtuning.smr.pkl.session.pkl\n",
      "writing ../data/david_neurons/K57/error_direction/K57_2_CSdirtuning.smr.pkl.session.pkl ...\n",
      "/mnt/papers/Herzfeld_Nat_Neurosci_2018/raw_data/2008_Random/Kimo/K57/error_direction/K57_1_CSdir_tuning.smr\n",
      "../data/david_neurons/K57/error_direction/K57_1_CSdir_tuning.smr.pkl\n",
      "writing\n",
      "../data/david_neurons/K57/error_direction/K57_1_CSdir_tuning.smr.pkl.session.pkl\n",
      "writing ../data/david_neurons/K57/error_direction/K57_1_CSdir_tuning.smr.pkl.session.pkl ...\n",
      "/mnt/papers/Herzfeld_Nat_Neurosci_2018/raw_data/2008_Random/Kimo/K57/error_magnitude/K57_2_errorsizetest225.smr\n",
      "../data/david_neurons/K57/error_magnitude/K57_2_errorsizetest225.smr.pkl\n",
      "writing\n",
      "../data/david_neurons/K57/error_magnitude/K57_2_errorsizetest225.smr.pkl.session.pkl\n",
      "writing ../data/david_neurons/K57/error_magnitude/K57_2_errorsizetest225.smr.pkl.session.pkl ...\n",
      "/mnt/papers/Herzfeld_Nat_Neurosci_2018/raw_data/2008_Random/Kimo/K25/K25_1HadaptBOTHBW.smr\n",
      "../data/david_neurons/K25/K25_1HadaptBOTHBW.smr.pkl\n",
      "writing\n",
      "../data/david_neurons/K25/K25_1HadaptBOTHBW.smr.pkl.session.pkl\n",
      "writing ../data/david_neurons/K25/K25_1HadaptBOTHBW.smr.pkl.session.pkl ...\n",
      "/mnt/papers/Herzfeld_Nat_Neurosci_2018/raw_data/2008_Random/Kimo/K25/K25_1control.smr\n",
      "../data/david_neurons/K25/K25_1control.smr.pkl\n",
      "writing\n",
      "../data/david_neurons/K25/K25_1control.smr.pkl.session.pkl\n",
      "writing ../data/david_neurons/K25/K25_1control.smr.pkl.session.pkl ...\n",
      "/mnt/papers/Herzfeld_Nat_Neurosci_2018/raw_data/2008_Random/Kimo/K25/K25_1HadaptBOTHFWmultstepsize.smr\n",
      "../data/david_neurons/K25/K25_1HadaptBOTHFWmultstepsize.smr.pkl\n",
      "writing\n",
      "../data/david_neurons/K25/K25_1HadaptBOTHFWmultstepsize.smr.pkl.session.pkl\n",
      "writing ../data/david_neurons/K25/K25_1HadaptBOTHFWmultstepsize.smr.pkl.session.pkl ...\n",
      "/mnt/papers/Herzfeld_Nat_Neurosci_2018/raw_data/2008_Random/Kimo/K25/K25_1_10_20_30_40degSaccades.smr\n",
      "../data/david_neurons/K25/K25_1_10_20_30_40degSaccades.smr.pkl\n",
      "writing\n",
      "../data/david_neurons/K25/K25_1_10_20_30_40degSaccades.smr.pkl.session.pkl\n",
      "writing ../data/david_neurons/K25/K25_1_10_20_30_40degSaccades.smr.pkl.session.pkl ...\n",
      "/mnt/papers/Herzfeld_Nat_Neurosci_2018/raw_data/2008_Random/Kimo/K25/error_direction/K25_1dirtuning.smr\n",
      "../data/david_neurons/K25/error_direction/K25_1dirtuning.smr.pkl\n",
      "writing\n",
      "../data/david_neurons/K25/error_direction/K25_1dirtuning.smr.pkl.session.pkl\n",
      "writing ../data/david_neurons/K25/error_direction/K25_1dirtuning.smr.pkl.session.pkl ...\n",
      "/mnt/papers/Herzfeld_Nat_Neurosci_2018/raw_data/2008_Random/Kimo/K25/error_magnitude/K25_1Herrortest.smr\n",
      "../data/david_neurons/K25/error_magnitude/K25_1Herrortest.smr.pkl\n",
      "writing\n",
      "../data/david_neurons/K25/error_magnitude/K25_1Herrortest.smr.pkl.session.pkl\n",
      "writing ../data/david_neurons/K25/error_magnitude/K25_1Herrortest.smr.pkl.session.pkl ...\n",
      "/mnt/papers/Herzfeld_Nat_Neurosci_2018/raw_data/2008_Random/Kimo/K55/K55_1_SScontrol8dir.smr\n",
      "../data/david_neurons/K55/K55_1_SScontrol8dir.smr.pkl\n",
      "writing\n",
      "../data/david_neurons/K55/K55_1_SScontrol8dir.smr.pkl.session.pkl\n",
      "writing ../data/david_neurons/K55/K55_1_SScontrol8dir.smr.pkl.session.pkl ...\n",
      "/mnt/papers/Herzfeld_Nat_Neurosci_2018/raw_data/2008_Random/Kimo/K55/error_direction/K55_1_DirectionalTest.smr\n",
      "../data/david_neurons/K55/error_direction/K55_1_DirectionalTest.smr.pkl\n",
      "writing\n",
      "../data/david_neurons/K55/error_direction/K55_1_DirectionalTest.smr.pkl.session.pkl\n",
      "writing ../data/david_neurons/K55/error_direction/K55_1_DirectionalTest.smr.pkl.session.pkl ...\n",
      "/mnt/papers/Herzfeld_Nat_Neurosci_2018/raw_data/2008_Random/Kimo/K38/K38_1_SScontrolHorz.smr\n",
      "../data/david_neurons/K38/K38_1_SScontrolHorz.smr.pkl\n",
      "writing\n",
      "../data/david_neurons/K38/K38_1_SScontrolHorz.smr.pkl.session.pkl\n",
      "writing ../data/david_neurons/K38/K38_1_SScontrolHorz.smr.pkl.session.pkl ...\n",
      "/mnt/papers/Herzfeld_Nat_Neurosci_2018/raw_data/2008_Random/Kimo/K38/K38_1_SScontrol8dir.smr\n",
      "../data/david_neurons/K38/K38_1_SScontrol8dir.smr.pkl\n",
      "writing\n",
      "../data/david_neurons/K38/K38_1_SScontrol8dir.smr.pkl.session.pkl\n",
      "writing ../data/david_neurons/K38/K38_1_SScontrol8dir.smr.pkl.session.pkl ...\n",
      "/mnt/papers/Herzfeld_Nat_Neurosci_2018/raw_data/2008_Random/Kimo/K38/error_direction/K38_1_DirectionalTest.smr\n",
      "../data/david_neurons/K38/error_direction/K38_1_DirectionalTest.smr.pkl\n",
      "writing\n",
      "../data/david_neurons/K38/error_direction/K38_1_DirectionalTest.smr.pkl.session.pkl\n",
      "writing ../data/david_neurons/K38/error_direction/K38_1_DirectionalTest.smr.pkl.session.pkl ...\n",
      "/mnt/papers/Herzfeld_Nat_Neurosci_2018/raw_data/2008_Random/Kimo/K38/error_magnitude/K38_1_ErrorSizeTest.smr\n",
      "../data/david_neurons/K38/error_magnitude/K38_1_ErrorSizeTest.smr.pkl\n",
      "writing\n",
      "../data/david_neurons/K38/error_magnitude/K38_1_ErrorSizeTest.smr.pkl.session.pkl\n",
      "writing ../data/david_neurons/K38/error_magnitude/K38_1_ErrorSizeTest.smr.pkl.session.pkl ...\n",
      "/mnt/papers/Herzfeld_Nat_Neurosci_2018/raw_data/2008_Random/Kimo/K50/error_direction/K50_2_directionaltest.smr\n",
      "../data/david_neurons/K50/error_direction/K50_2_directionaltest.smr.pkl\n",
      "writing\n",
      "../data/david_neurons/K50/error_direction/K50_2_directionaltest.smr.pkl.session.pkl\n",
      "writing ../data/david_neurons/K50/error_direction/K50_2_directionaltest.smr.pkl.session.pkl ...\n",
      "/mnt/papers/Herzfeld_Nat_Neurosci_2018/raw_data/2008_Random/Kimo/K50/error_magnitude/K50_2_Horzerrorsizetest_leveltriggerable.smr\n",
      "../data/david_neurons/K50/error_magnitude/K50_2_Horzerrorsizetest_leveltriggerable.smr.pkl\n"
     ]
    },
    {
     "name": "stdout",
     "output_type": "stream",
     "text": [
      "writing\n",
      "../data/david_neurons/K50/error_magnitude/K50_2_Horzerrorsizetest_leveltriggerable.smr.pkl.session.pkl\n",
      "writing ../data/david_neurons/K50/error_magnitude/K50_2_Horzerrorsizetest_leveltriggerable.smr.pkl.session.pkl ...\n",
      "/mnt/papers/Herzfeld_Nat_Neurosci_2018/raw_data/2008_Random/Kimo/K34/K34_1HadaptbothBW.smr\n",
      "../data/david_neurons/K34/K34_1HadaptbothBW.smr.pkl\n",
      "writing\n",
      "../data/david_neurons/K34/K34_1HadaptbothBW.smr.pkl.session.pkl\n",
      "writing ../data/david_neurons/K34/K34_1HadaptbothBW.smr.pkl.session.pkl ...\n",
      "/mnt/papers/Herzfeld_Nat_Neurosci_2018/raw_data/2008_Random/Kimo/K34/K34_1control.smr\n",
      "../data/david_neurons/K34/K34_1control.smr.pkl\n",
      "writing\n",
      "../data/david_neurons/K34/K34_1control.smr.pkl.session.pkl\n",
      "writing ../data/david_neurons/K34/K34_1control.smr.pkl.session.pkl ...\n",
      "/mnt/papers/Herzfeld_Nat_Neurosci_2018/raw_data/2008_Random/Kimo/K34/K34_1SStest_small_large_sacccades.smr\n",
      "../data/david_neurons/K34/K34_1SStest_small_large_sacccades.smr.pkl\n",
      "writing\n",
      "../data/david_neurons/K34/K34_1SStest_small_large_sacccades.smr.pkl.session.pkl\n",
      "writing ../data/david_neurons/K34/K34_1SStest_small_large_sacccades.smr.pkl.session.pkl ...\n",
      "/mnt/papers/Herzfeld_Nat_Neurosci_2018/raw_data/2008_Random/Kimo/K34/K34_1Hcontrol.smr\n",
      "../data/david_neurons/K34/K34_1Hcontrol.smr.pkl\n",
      "writing\n",
      "../data/david_neurons/K34/K34_1Hcontrol.smr.pkl.session.pkl\n",
      "writing ../data/david_neurons/K34/K34_1Hcontrol.smr.pkl.session.pkl ...\n",
      "/mnt/papers/Herzfeld_Nat_Neurosci_2018/raw_data/2008_Random/Kimo/K34/error_direction/K34_1dirtest.smr\n",
      "../data/david_neurons/K34/error_direction/K34_1dirtest.smr.pkl\n",
      "writing\n",
      "../data/david_neurons/K34/error_direction/K34_1dirtest.smr.pkl.session.pkl\n",
      "writing ../data/david_neurons/K34/error_direction/K34_1dirtest.smr.pkl.session.pkl ...\n",
      "/mnt/papers/Herzfeld_Nat_Neurosci_2018/raw_data/2008_Random/Kimo/K34/error_magnitude/K34_1Herrortest.smr\n",
      "../data/david_neurons/K34/error_magnitude/K34_1Herrortest.smr.pkl\n",
      "writing\n",
      "../data/david_neurons/K34/error_magnitude/K34_1Herrortest.smr.pkl.session.pkl\n",
      "writing ../data/david_neurons/K34/error_magnitude/K34_1Herrortest.smr.pkl.session.pkl ...\n",
      "/mnt/papers/Herzfeld_Nat_Neurosci_2018/raw_data/2008_Random/Step/S18/S18_1_SScontrol8dirHroz.smr\n",
      "../data/david_neurons/S18/S18_1_SScontrol8dirHroz.smr.pkl\n",
      "writing\n",
      "../data/david_neurons/S18/S18_1_SScontrol8dirHroz.smr.pkl.session.pkl\n",
      "writing ../data/david_neurons/S18/S18_1_SScontrol8dirHroz.smr.pkl.session.pkl ...\n",
      "/mnt/papers/Herzfeld_Nat_Neurosci_2018/raw_data/2008_Random/Step/S18/S18_1_135degBW315degFWvariablestepsize_leveltrigger.smr\n",
      "../data/david_neurons/S18/S18_1_135degBW315degFWvariablestepsize_leveltrigger.smr.pkl\n",
      "writing\n",
      "../data/david_neurons/S18/S18_1_135degBW315degFWvariablestepsize_leveltrigger.smr.pkl.session.pkl\n",
      "writing ../data/david_neurons/S18/S18_1_135degBW315degFWvariablestepsize_leveltrigger.smr.pkl.session.pkl ...\n",
      "/mnt/papers/Herzfeld_Nat_Neurosci_2018/raw_data/2008_Random/Step/S18/error_direction/S18_1_DirectionalTuning_leveltrigger.smr\n",
      "../data/david_neurons/S18/error_direction/S18_1_DirectionalTuning_leveltrigger.smr.pkl\n",
      "writing\n",
      "../data/david_neurons/S18/error_direction/S18_1_DirectionalTuning_leveltrigger.smr.pkl.session.pkl\n",
      "writing ../data/david_neurons/S18/error_direction/S18_1_DirectionalTuning_leveltrigger.smr.pkl.session.pkl ...\n",
      "/mnt/papers/Herzfeld_Nat_Neurosci_2018/raw_data/2008_Random/Step/S18/error_magnitude/S18_1_HorzErrorSizeTest.smr\n",
      "../data/david_neurons/S18/error_magnitude/S18_1_HorzErrorSizeTest.smr.pkl\n",
      "writing\n",
      "../data/david_neurons/S18/error_magnitude/S18_1_HorzErrorSizeTest.smr.pkl.session.pkl\n",
      "writing ../data/david_neurons/S18/error_magnitude/S18_1_HorzErrorSizeTest.smr.pkl.session.pkl ...\n",
      "/mnt/papers/Herzfeld_Nat_Neurosci_2018/raw_data/2010_Adapt/Wyatt/W111308/W111308_1604_Adapt.smr\n",
      "../data/david_neurons/W111308/W111308_1604_Adapt.smr.pkl\n",
      "writing\n",
      "../data/david_neurons/W111308/W111308_1604_Adapt.smr.pkl.session.pkl\n",
      "writing ../data/david_neurons/W111308/W111308_1604_Adapt.smr.pkl.session.pkl ...\n",
      "/mnt/papers/Herzfeld_Nat_Neurosci_2018/raw_data/2010_Adapt/Wyatt/W120308_2/W120308_2_1714_List.smr\n",
      "../data/david_neurons/W120308_2/W120308_2_1714_List.smr.pkl\n",
      "writing\n",
      "../data/david_neurons/W120308_2/W120308_2_1714_List.smr.pkl.session.pkl\n",
      "writing ../data/david_neurons/W120308_2/W120308_2_1714_List.smr.pkl.session.pkl ...\n",
      "/mnt/papers/Herzfeld_Nat_Neurosci_2018/raw_data/2010_Adapt/Wyatt/W120108/W120108_1634_Adapt.smr\n",
      "../data/david_neurons/W120108/W120108_1634_Adapt.smr.pkl\n",
      "writing\n",
      "../data/david_neurons/W120108/W120108_1634_Adapt.smr.pkl.session.pkl\n",
      "writing ../data/david_neurons/W120108/W120108_1634_Adapt.smr.pkl.session.pkl ...\n",
      "/mnt/papers/Herzfeld_Nat_Neurosci_2018/raw_data/2010_Adapt/Wyatt/W120508_1/W120508_1_1429_Adapt.smr\n",
      "../data/david_neurons/W120508_1/W120508_1_1429_Adapt.smr.pkl\n",
      "writing\n",
      "../data/david_neurons/W120508_1/W120508_1_1429_Adapt.smr.pkl.session.pkl\n",
      "writing ../data/david_neurons/W120508_1/W120508_1_1429_Adapt.smr.pkl.session.pkl ...\n",
      "/mnt/papers/Herzfeld_Nat_Neurosci_2018/raw_data/2010_Adapt/Buckley_25deg/B101707/B101707_1333_List.smr\n",
      "../data/david_neurons/B101707/B101707_1333_List.smr.pkl\n",
      "writing\n",
      "../data/david_neurons/B101707/B101707_1333_List.smr.pkl.session.pkl\n",
      "writing ../data/david_neurons/B101707/B101707_1333_List.smr.pkl.session.pkl ...\n",
      "/mnt/papers/Herzfeld_Nat_Neurosci_2018/raw_data/2010_Adapt/Felix/F102706/F102706_1435_List.smr\n",
      "../data/david_neurons/F102706/F102706_1435_List.smr.pkl\n",
      "writing\n",
      "../data/david_neurons/F102706/F102706_1435_List.smr.pkl.session.pkl\n",
      "writing ../data/david_neurons/F102706/F102706_1435_List.smr.pkl.session.pkl ...\n",
      "/mnt/papers/Herzfeld_Nat_Neurosci_2018/raw_data/2010_Adapt/Felix/F110206/F110206_1411_Adapt.smr\n",
      "../data/david_neurons/F110206/F110206_1411_Adapt.smr.pkl\n",
      "writing\n",
      "../data/david_neurons/F110206/F110206_1411_Adapt.smr.pkl.session.pkl\n",
      "writing ../data/david_neurons/F110206/F110206_1411_Adapt.smr.pkl.session.pkl ...\n",
      "/mnt/papers/Herzfeld_Nat_Neurosci_2018/raw_data/2010_Adapt/Buckley_12deg/B091608/B091608_1429_AdaptCTRL.smr\n",
      "../data/david_neurons/B091608/B091608_1429_AdaptCTRL.smr.pkl\n",
      "writing\n",
      "../data/david_neurons/B091608/B091608_1429_AdaptCTRL.smr.pkl.session.pkl\n",
      "writing ../data/david_neurons/B091608/B091608_1429_AdaptCTRL.smr.pkl.session.pkl ...\n",
      "/mnt/papers/Herzfeld_Nat_Neurosci_2018/raw_data/2010_Adapt/Buckley_12deg/B091908_2/B091908_21602_Adapt.smr\n",
      "../data/david_neurons/B091908_2/B091908_21602_Adapt.smr.pkl\n",
      "writing\n",
      "../data/david_neurons/B091908_2/B091908_21602_Adapt.smr.pkl.session.pkl\n",
      "writing ../data/david_neurons/B091908_2/B091908_21602_Adapt.smr.pkl.session.pkl ...\n",
      "/mnt/papers/Herzfeld_Nat_Neurosci_2018/raw_data/2010_Adapt/Buckley_12deg/B091908_1/B091908_1_1509_Adapt.smr\n",
      "../data/david_neurons/B091908_1/B091908_1_1509_Adapt.smr.pkl\n",
      "writing\n",
      "../data/david_neurons/B091908_1/B091908_1_1509_Adapt.smr.pkl.session.pkl\n",
      "writing ../data/david_neurons/B091908_1/B091908_1_1509_Adapt.smr.pkl.session.pkl ...\n"
     ]
    }
   ],
   "source": [
    "for ff in file_names:\n",
    "\n",
    "    try:\n",
    "        f_name = find_file(ff, '/mnt/papers/Herzfeld_Nat_Neurosci_2018/raw_data/')\n",
    "        f_name_tacdec = find_file(ff +'.pkl', '../data/david_neurons')\n",
    "        print(f_name)\n",
    "        print(f_name_tacdec)\n",
    "        neo_reader = Spike2IO(filename=f_name)\n",
    "        neo_data = neo_reader.read()\n",
    "        data_block = neo_data[0]\n",
    "        seg = data_block.segments[0]\n",
    "\n",
    "            # Load eye data\n",
    "        HE = seg.analogsignals[0].as_array()\n",
    "        t_HE = seg.analogsignals[0].times;\n",
    "\n",
    "        VE = seg.analogsignals[1].as_array()\n",
    "        t_VE = seg.analogsignals[1].times\n",
    "\n",
    "        HT = seg.analogsignals[2].as_array()\n",
    "        t_HT = seg.analogsignals[2].times\n",
    "\n",
    "        VT = seg.analogsignals[3].as_array()\n",
    "        t_VT = seg.analogsignals[3].times\n",
    "\n",
    "        fs = seg.analogsignals[0].sampling_rate\n",
    "        dt = seg.analogsignals[0].sampling_period\n",
    "\n",
    "        t_start = 0\n",
    "        t_end = 20000\n",
    "        mysess = session(HT[np.where(np.logical_and((t_HT > t_start), (t_HT <= t_end)))], t_HT[np.where(np.logical_and((t_HT > t_start), (t_HT <= t_end)))],\n",
    "                         VT[np.where(np.logical_and((t_VT > t_start), (t_VT <= t_end)))], t_VT[np.where(np.logical_and((t_VT > t_start), (t_VT <= t_end)))],\n",
    "                         HE[np.where(np.logical_and((t_HE > t_start), (t_HE <= t_end)))], t_HE[np.where(np.logical_and((t_HE > t_start), (t_HE <= t_end)))],\n",
    "                         VE[np.where(np.logical_and((t_VE > t_start), (t_VE <= t_end)))], t_VE[np.where(np.logical_and((t_VE > t_start), (t_VE <= t_end)))], fs, dt)\n",
    "        mysess._cut_to_min_size()\n",
    "        mysess._calc_target_velocity()\n",
    "        mysess._calc_saccade_velocity()\n",
    "        mysess._detect_target_jumps()\n",
    "        mysess._detect_saccades()\n",
    "        mysess._calc_error_vectors()\n",
    "\n",
    "        # saving mysess\n",
    "        output_fn = f_name_tacdec + '.session.pkl'\n",
    "        print('writing')\n",
    "        print(output_fn)\n",
    "        with open(output_fn, 'wb') as output:\n",
    "            print('writing {} ...'.format(output_fn))\n",
    "            pickle.dump(mysess, output, pickle.HIGHEST_PROTOCOL)\n",
    "\n",
    "    except Exception as e: \n",
    "        print(e)\n",
    "        pass\n",
    "        \n",
    "    "
   ]
  },
  {
   "cell_type": "code",
   "execution_count": 3,
   "metadata": {},
   "outputs": [
    {
     "data": {
      "text/plain": [
       "'/mnt/papers/Herzfeld_Nat_Neurosci_2018/raw_data/2010_Adapt/Felix/F102506/F102506_1506_List.smr'"
      ]
     },
     "execution_count": 3,
     "metadata": {},
     "output_type": "execute_result"
    }
   ],
   "source": [
    "file_names[61]"
   ]
  },
  {
   "cell_type": "code",
   "execution_count": 3,
   "metadata": {},
   "outputs": [
    {
     "name": "stdout",
     "output_type": "stream",
     "text": [
      "/mnt/papers/Herzfeld_Nat_Neurosci_2018/raw_data/2010_Adapt/Felix/F112006/F112006_1446_List.smr\n",
      "../data/david_neurons/F112006/F112006_1446_List.smr.pkl\n"
     ]
    },
    {
     "name": "stderr",
     "output_type": "stream",
     "text": [
      "/usr/local/lib/python2.7/dist-packages/scipy/signal/_arraytools.py:45: FutureWarning: Using a non-tuple sequence for multidimensional indexing is deprecated; use `arr[tuple(seq)]` instead of `arr[seq]`. In the future this will be interpreted as an array index, `arr[np.array(seq)]`, which will result either in an error or a different result.\n",
      "  b = a[a_slice]\n"
     ]
    },
    {
     "name": "stdout",
     "output_type": "stream",
     "text": [
      "writing\n",
      "../data/david_neurons/F112006/F112006_1446_List.smr.pkl.session.pkl\n",
      "writing ../data/david_neurons/F112006/F112006_1446_List.smr.pkl.session.pkl ...\n"
     ]
    }
   ],
   "source": [
    "ff = file_names[63]\n",
    "f_name = find_file(os.path.basename(ff), '/mnt/papers/Herzfeld_Nat_Neurosci_2018/raw_data/')\n",
    "f_name_tacdec = find_file(os.path.basename(ff)+'.pkl', '../data/david_neurons')\n",
    "print(f_name)\n",
    "print(f_name_tacdec)\n",
    "neo_reader = Spike2IO(filename=f_name)\n",
    "neo_data = neo_reader.read()\n",
    "data_block = neo_data[0]\n",
    "seg = data_block.segments[0]\n",
    "\n",
    "    # Load eye data\n",
    "HE = seg.analogsignals[0].as_array()\n",
    "t_HE = seg.analogsignals[0].times;\n",
    "\n",
    "VE = seg.analogsignals[1].as_array()\n",
    "t_VE = seg.analogsignals[1].times\n",
    "\n",
    "HT = seg.analogsignals[2].as_array()\n",
    "t_HT = seg.analogsignals[2].times\n",
    "\n",
    "VT = seg.analogsignals[3].as_array()\n",
    "t_VT = seg.analogsignals[3].times\n",
    "\n",
    "fs = seg.analogsignals[0].sampling_rate\n",
    "dt = seg.analogsignals[0].sampling_period\n",
    "\n",
    "t_start = 0\n",
    "t_end = 20000\n",
    "mysess = session(HT[np.where(np.logical_and((t_HT > t_start), (t_HT <= t_end)))], t_HT[np.where(np.logical_and((t_HT > t_start), (t_HT <= t_end)))],\n",
    "                 VT[np.where(np.logical_and((t_VT > t_start), (t_VT <= t_end)))], t_VT[np.where(np.logical_and((t_VT > t_start), (t_VT <= t_end)))],\n",
    "                 HE[np.where(np.logical_and((t_HE > t_start), (t_HE <= t_end)))], t_HE[np.where(np.logical_and((t_HE > t_start), (t_HE <= t_end)))],\n",
    "                 VE[np.where(np.logical_and((t_VE > t_start), (t_VE <= t_end)))], t_VE[np.where(np.logical_and((t_VE > t_start), (t_VE <= t_end)))], fs, dt)\n",
    "mysess._cut_to_min_size()\n",
    "mysess._calc_target_velocity()\n",
    "mysess._calc_saccade_velocity()\n",
    "mysess._detect_target_jumps()\n",
    "mysess._detect_saccades()\n",
    "mysess._calc_error_vectors()\n",
    "\n",
    "# saving mysess\n",
    "output_fn = f_name_tacdec + '.session.pkl'\n",
    "print('writing')\n",
    "print(output_fn)\n",
    "with open(output_fn, 'wb') as output:\n",
    "    print('writing {} ...'.format(output_fn))\n",
    "    pickle.dump(mysess, output, pickle.HIGHEST_PROTOCOL)"
   ]
  },
  {
   "cell_type": "code",
   "execution_count": 13,
   "metadata": {},
   "outputs": [
    {
     "data": {
      "text/plain": [
       "[0]"
      ]
     },
     "execution_count": 13,
     "metadata": {},
     "output_type": "execute_result"
    }
   ],
   "source": [
    "[i for i, x in enumerate(mysess.saccade_onsets) if x is None]\n"
   ]
  }
 ],
 "metadata": {
  "kernelspec": {
   "display_name": "Python 2",
   "language": "python",
   "name": "python2"
  },
  "language_info": {
   "codemirror_mode": {
    "name": "ipython",
    "version": 2
   },
   "file_extension": ".py",
   "mimetype": "text/x-python",
   "name": "python",
   "nbconvert_exporter": "python",
   "pygments_lexer": "ipython2",
   "version": "2.7.12"
  }
 },
 "nbformat": 4,
 "nbformat_minor": 2
}
