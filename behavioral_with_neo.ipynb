{
 "cells": [
  {
   "cell_type": "code",
   "execution_count": 327,
   "metadata": {},
   "outputs": [],
   "source": [
    "from neo import Block\n",
    "from neo.io import Spike2IO, NeoMatlabIO\n",
    "try:\n",
    "    import cPickle as pickle\n",
    "except ModuleNotFoundError:\n",
    "    import pickle\n",
    "from kaveh.behavioral import oculomotor\n",
    "from kaveh.sorting import spikesorter\n",
    "from kaveh.toolbox import find_file\n",
    "from kaveh.plots import axvlines\n",
    "import numpy as np\n",
    "from matplotlib import pyplot as plt\n",
    "from smr import File\n",
    "import csv\n",
    "import os\n",
    "import gc"
   ]
  },
  {
   "cell_type": "code",
   "execution_count": 328,
   "metadata": {},
   "outputs": [
    {
     "name": "stdout",
     "output_type": "stream",
     "text": [
      "The autoreload extension is already loaded. To reload it, use:\n",
      "  %reload_ext autoreload\n"
     ]
    }
   ],
   "source": [
    "%matplotlib notebook\n",
    "%load_ext autoreload\n",
    "%autoreload 2"
   ]
  },
  {
   "cell_type": "code",
   "execution_count": 408,
   "metadata": {},
   "outputs": [],
   "source": [
    "# f_name = '/mnt/papers/Herzfeld_Nat_Neurosci_2018/raw_data/2010_Adapt/Buckley_25deg/B082107/B082107_1340_List.smr'\n",
    "f_name = '/mnt/papers/Herzfeld_Nat_Neurosci_2018/raw_data/2010_Adapt/Buckley_25deg/B110807/B110807_1632_List.smr'"
   ]
  },
  {
   "cell_type": "code",
   "execution_count": 409,
   "metadata": {},
   "outputs": [],
   "source": [
    "neo_reader = Spike2IO(filename=f_name)\n",
    "neo_data = neo_reader.read()\n",
    "data_block = neo_data[0]\n",
    "\n",
    "seg = data_block.segments[0]\n",
    "\n",
    "events = seg.events"
   ]
  },
  {
   "cell_type": "code",
   "execution_count": 412,
   "metadata": {},
   "outputs": [],
   "source": [
    "# Load events\n",
    "labels = np.unique(events[-1].labels)\n",
    "\n",
    "event_times = [0]*labels.size\n",
    "\n",
    "for i, label in enumerate(labels):\n",
    "    event_times[i] = events[-1].times[events[-1].labels == label]\n",
    "    \n",
    "    \n",
    "# Event 0\n",
    "# Event 1\n",
    "# Event 2\n",
    "# Event 3 : Trial onset\n",
    "# Event 4 : Primary target presentation in adaptation trials\n",
    "# Event 5 : Corrective target presentation in adaptation trials\n",
    "# Event 6 : Divide each trial into its target jumps\n",
    "# Event 7 : "
   ]
  },
  {
   "cell_type": "code",
   "execution_count": 411,
   "metadata": {},
   "outputs": [
    {
     "name": "stdout",
     "output_type": "stream",
     "text": [
      "(5605,)\n",
      "(651,)\n"
     ]
    }
   ],
   "source": [
    "for et in event_times:\n",
    "    print(et.shape)"
   ]
  },
  {
   "cell_type": "code",
   "execution_count": 407,
   "metadata": {},
   "outputs": [
    {
     "data": {
      "text/plain": [
       "Event\n",
       "name: 'Events'\n",
       "annotations: {'comment': u'No comment',\n",
       "  'copy': False,\n",
       "  'id': u'31',\n",
       "  'physical_channel_index': 0}"
      ]
     },
     "execution_count": 407,
     "metadata": {},
     "output_type": "execute_result"
    }
   ],
   "source": [
    "events[7]"
   ]
  },
  {
   "cell_type": "code",
   "execution_count": 394,
   "metadata": {},
   "outputs": [],
   "source": [
    "# Load eye data\n",
    "HE = seg.analogsignals[0].as_array()\n",
    "t_HE = seg.analogsignals[0].times;\n",
    "\n",
    "VE = seg.analogsignals[1].as_array()\n",
    "t_VE = seg.analogsignals[1].times\n",
    "\n",
    "HT = seg.analogsignals[2].as_array()\n",
    "t_HT = seg.analogsignals[2].times\n",
    "\n",
    "VT = seg.analogsignals[3].as_array()\n",
    "t_VT = seg.analogsignals[3].times\n",
    "\n",
    "eye_fs = seg.analogsignals[0].sampling_rate"
   ]
  },
  {
   "cell_type": "code",
   "execution_count": 386,
   "metadata": {},
   "outputs": [
    {
     "data": {
      "text/plain": [
       "quantities.quantity.Quantity"
      ]
     },
     "execution_count": 386,
     "metadata": {},
     "output_type": "execute_result"
    }
   ],
   "source": [
    "type(t_VT)"
   ]
  },
  {
   "cell_type": "code",
   "execution_count": 395,
   "metadata": {},
   "outputs": [],
   "source": [
    "# Load voltage\n",
    "signal = seg.analogsignals[-1].as_array()\n",
    "t_signal = seg.analogsignals[-1].times\n",
    "signal_fs = seg.analogsignals[-1].sampling_rate"
   ]
  },
  {
   "cell_type": "code",
   "execution_count": null,
   "metadata": {},
   "outputs": [],
   "source": []
  },
  {
   "cell_type": "code",
   "execution_count": 413,
   "metadata": {},
   "outputs": [],
   "source": [
    "class trial:\n",
    "    def __init__(self, HT, t_HT, VT, t_VT, HE, t_HE, VE, t_VE, signal, t_signal, trial_number,\n",
    "                 start_time, end_time):\n",
    "        '''\n",
    "        HT, VT, HE, VE, signal: Type ndarray\n",
    "        HT_t, VT_t, HE_t, VE_t, t_signal: Type Quantity ('s')\n",
    "        trial_number: Integer\n",
    "        start_time, end_time: In seconds (type: Quantity ('s'))\n",
    "        '''\n",
    "        self.HT = HT\n",
    "        self.t_HT = t_HT\n",
    "        self.VT = VT\n",
    "        self.t_VT = t_VT\n",
    "        self.HE = HE\n",
    "        self.t_HE = t_HE\n",
    "        self.VE = VE\n",
    "        self.t_VE = t_VE\n",
    "        self.signal\n",
    "        self.t_signal = t_signal\n",
    "        self.trial_number = trial_number\n",
    "        self.start_time = start_time\n",
    "        self.end_time = end_time\n"
   ]
  },
  {
   "cell_type": "code",
   "execution_count": 414,
   "metadata": {},
   "outputs": [
    {
     "ename": "IndexError",
     "evalue": "list index out of range",
     "output_type": "error",
     "traceback": [
      "\u001b[0;31m\u001b[0m",
      "\u001b[0;31mIndexError\u001b[0mTraceback (most recent call last)",
      "\u001b[0;32m<ipython-input-414-0c3c40812a1a>\u001b[0m in \u001b[0;36m<module>\u001b[0;34m()\u001b[0m\n\u001b[0;32m----> 1\u001b[0;31m \u001b[0mprim_sac_times_adpt\u001b[0m \u001b[0;34m=\u001b[0m \u001b[0mevent_times\u001b[0m\u001b[0;34m[\u001b[0m\u001b[0;36m4\u001b[0m\u001b[0;34m]\u001b[0m\u001b[0;34m\u001b[0m\u001b[0m\n\u001b[0m\u001b[1;32m      2\u001b[0m \u001b[0mcorr_sac_times_adpt\u001b[0m \u001b[0;34m=\u001b[0m \u001b[0mevent_times\u001b[0m\u001b[0;34m[\u001b[0m\u001b[0;36m5\u001b[0m\u001b[0;34m]\u001b[0m\u001b[0;34m\u001b[0m\u001b[0m\n",
      "\u001b[0;31mIndexError\u001b[0m: list index out of range"
     ]
    }
   ],
   "source": [
    "prim_sac_times_adpt = event_times[4]\n",
    "corr_sac_times_adpt = event_times[5]"
   ]
  },
  {
   "cell_type": "code",
   "execution_count": 391,
   "metadata": {},
   "outputs": [
    {
     "ename": "IndexError",
     "evalue": "index 1 is out of bounds for axis 0 with size 1",
     "output_type": "error",
     "traceback": [
      "\u001b[0;31m\u001b[0m",
      "\u001b[0;31mIndexError\u001b[0mTraceback (most recent call last)",
      "\u001b[0;32m<ipython-input-391-5abb58c77e80>\u001b[0m in \u001b[0;36m<module>\u001b[0;34m()\u001b[0m\n\u001b[1;32m      3\u001b[0m \u001b[0;34m\u001b[0m\u001b[0m\n\u001b[1;32m      4\u001b[0m \u001b[0mstart_time\u001b[0m \u001b[0;34m=\u001b[0m \u001b[0mevent_times\u001b[0m\u001b[0;34m[\u001b[0m\u001b[0;36m3\u001b[0m\u001b[0;34m]\u001b[0m\u001b[0;34m[\u001b[0m\u001b[0mtrial_num\u001b[0m\u001b[0;34m]\u001b[0m\u001b[0;34m\u001b[0m\u001b[0m\n\u001b[0;32m----> 5\u001b[0;31m \u001b[0mend_time\u001b[0m \u001b[0;34m=\u001b[0m \u001b[0mevent_times\u001b[0m\u001b[0;34m[\u001b[0m\u001b[0;36m3\u001b[0m\u001b[0;34m]\u001b[0m\u001b[0;34m[\u001b[0m\u001b[0mtrial_num\u001b[0m \u001b[0;34m+\u001b[0m \u001b[0;36m1\u001b[0m\u001b[0;34m]\u001b[0m\u001b[0;34m\u001b[0m\u001b[0m\n\u001b[0m\u001b[1;32m      6\u001b[0m \u001b[0;34m\u001b[0m\u001b[0m\n\u001b[1;32m      7\u001b[0m \u001b[0mgc\u001b[0m\u001b[0;34m.\u001b[0m\u001b[0mcollect\u001b[0m\u001b[0;34m(\u001b[0m\u001b[0;34m)\u001b[0m\u001b[0;34m\u001b[0m\u001b[0m\n",
      "\u001b[0;32m/usr/local/lib/python2.7/dist-packages/quantities/quantity.pyc\u001b[0m in \u001b[0;36m__getitem__\u001b[0;34m(self, key)\u001b[0m\n\u001b[1;32m    362\u001b[0m     \u001b[0;34m@\u001b[0m\u001b[0mwith_doc\u001b[0m\u001b[0;34m(\u001b[0m\u001b[0mnp\u001b[0m\u001b[0;34m.\u001b[0m\u001b[0mndarray\u001b[0m\u001b[0;34m.\u001b[0m\u001b[0m__getitem__\u001b[0m\u001b[0;34m)\u001b[0m\u001b[0;34m\u001b[0m\u001b[0m\n\u001b[1;32m    363\u001b[0m     \u001b[0;32mdef\u001b[0m \u001b[0m__getitem__\u001b[0m\u001b[0;34m(\u001b[0m\u001b[0mself\u001b[0m\u001b[0;34m,\u001b[0m \u001b[0mkey\u001b[0m\u001b[0;34m)\u001b[0m\u001b[0;34m:\u001b[0m\u001b[0;34m\u001b[0m\u001b[0m\n\u001b[0;32m--> 364\u001b[0;31m         \u001b[0mret\u001b[0m \u001b[0;34m=\u001b[0m \u001b[0msuper\u001b[0m\u001b[0;34m(\u001b[0m\u001b[0mQuantity\u001b[0m\u001b[0;34m,\u001b[0m \u001b[0mself\u001b[0m\u001b[0;34m)\u001b[0m\u001b[0;34m.\u001b[0m\u001b[0m__getitem__\u001b[0m\u001b[0;34m(\u001b[0m\u001b[0mkey\u001b[0m\u001b[0;34m)\u001b[0m\u001b[0;34m\u001b[0m\u001b[0m\n\u001b[0m\u001b[1;32m    365\u001b[0m         \u001b[0;32mif\u001b[0m \u001b[0misinstance\u001b[0m\u001b[0;34m(\u001b[0m\u001b[0mret\u001b[0m\u001b[0;34m,\u001b[0m \u001b[0mQuantity\u001b[0m\u001b[0;34m)\u001b[0m\u001b[0;34m:\u001b[0m\u001b[0;34m\u001b[0m\u001b[0m\n\u001b[1;32m    366\u001b[0m             \u001b[0;32mreturn\u001b[0m \u001b[0mret\u001b[0m\u001b[0;34m\u001b[0m\u001b[0m\n",
      "\u001b[0;31mIndexError\u001b[0m: index 1 is out of bounds for axis 0 with size 1"
     ]
    }
   ],
   "source": [
    "# divide trials\n",
    "trial_num = 0\n",
    "\n",
    "start_time = event_times[3][trial_num]\n",
    "end_time = event_times[3][trial_num + 1]\n",
    "\n",
    "gc.collect()\n",
    "plt.figure()\n",
    "plt.plot(t_VT[(t_VT > start_time) & (t_VT <= end_time)], VT[(t_VT > start_time) & (t_VT <= end_time)], alpha = 0.5, color = 'm')\n",
    "plt.plot(t_HT[(t_HT > start_time) & (t_HT <= end_time)], HT[(t_HT > start_time) & (t_HT <= end_time)], alpha = 0.5, color = 'b')\n",
    "plt.plot(t_VE[(t_VE > start_time) & (t_VE <= end_time)], VE[(t_VE > start_time) & (t_VE <= end_time)], alpha = 0.5, color = 'g')\n",
    "plt.plot(t_HE[(t_HE > start_time) & (t_HE <= end_time)], HE[(t_HE > start_time) & (t_HE <= end_time)], alpha = 0.5, color = 'y')\n",
    "plt.legend(['VT', 'HT', 'VE', 'HE'])\n",
    "plt.ylim((-20, 20))\n",
    "plt.eventplot(prim_sac_times_adpt[(prim_sac_times_adpt > start_time) & (prim_sac_times_adpt <= end_time)], linelengths=40, colors='r', alpha = 0.3)\n",
    "plt.eventplot(corr_sac_times_adpt[(corr_sac_times_adpt > start_time) & (corr_sac_times_adpt <= end_time)], linelengths=40, colors='lime', alpha = 0.3)\n",
    "plt.show()"
   ]
  },
  {
   "cell_type": "code",
   "execution_count": 331,
   "metadata": {},
   "outputs": [],
   "source": [
    "\n"
   ]
  },
  {
   "cell_type": "code",
   "execution_count": null,
   "metadata": {},
   "outputs": [],
   "source": []
  }
 ],
 "metadata": {
  "kernelspec": {
   "display_name": "Python 2",
   "language": "python",
   "name": "python2"
  },
  "language_info": {
   "codemirror_mode": {
    "name": "ipython",
    "version": 2
   },
   "file_extension": ".py",
   "mimetype": "text/x-python",
   "name": "python",
   "nbconvert_exporter": "python",
   "pygments_lexer": "ipython2",
   "version": "2.7.12"
  }
 },
 "nbformat": 4,
 "nbformat_minor": 2
}
