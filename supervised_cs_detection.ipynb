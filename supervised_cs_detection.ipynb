{
 "cells": [
  {
   "cell_type": "code",
   "execution_count": 3,
   "metadata": {},
   "outputs": [],
   "source": [
    "try:\n",
    "    import cPickle as pickle\n",
    "except ModuleNotFoundError:\n",
    "    import pickle\n",
    "from kaveh.behavioral import oculomotor\n",
    "from kaveh.sorting import spikesorter\n",
    "from kaveh.toolbox import find_file\n",
    "from kaveh.plots import axvlines\n",
    "import numpy as np\n",
    "from matplotlib import pyplot as plt\n",
    "from smr import File\n",
    "import csv\n",
    "import os"
   ]
  },
  {
   "cell_type": "code",
   "execution_count": 4,
   "metadata": {},
   "outputs": [],
   "source": [
    "%matplotlib notebook\n",
    "%load_ext autoreload\n",
    "%autoreload 2"
   ]
  },
  {
   "cell_type": "code",
   "execution_count": 5,
   "metadata": {},
   "outputs": [],
   "source": [
    "f_name = '/mnt/papers/Herzfeld_Nat_Neurosci_2018/raw_data/2008_Random/Kimo/K48/error_direction/K48_1_CSddirTuning.smr' # good\n",
    "# f_name = '/mnt/papers/Herzfeld_Nat_Neurosci_2018/raw_data/2008_Random/Kimo/K45/error_direction/K45_1_ErrorDirectionTest.smr'\n"
   ]
  },
  {
   "cell_type": "code",
   "execution_count": 6,
   "metadata": {},
   "outputs": [
    {
     "name": "stdout",
     "output_type": "stream",
     "text": [
      "Not implemented (type = 6)\n",
      "Not implemented (type = 5)\n"
     ]
    }
   ],
   "source": [
    "smr_content = File(f_name)\n",
    "smr_content.read_channels()"
   ]
  },
  {
   "cell_type": "code",
   "execution_count": 7,
   "metadata": {},
   "outputs": [],
   "source": [
    "voltage_chan = smr_content.get_channel(0)\n"
   ]
  },
  {
   "cell_type": "code",
   "execution_count": 8,
   "metadata": {},
   "outputs": [],
   "source": [
    "\n",
    "cs_path = '/mnt/data/temp/kaveh/auto_processed/' \n",
    "cf = find_file(os.path.split(f_name)[1] + '.pkl', cs_path)\n",
    "with open(cf, 'rb') as input:\n",
    "    sss = pickle.load(input)"
   ]
  },
  {
   "cell_type": "code",
   "execution_count": 9,
   "metadata": {},
   "outputs": [],
   "source": [
    "from neo.io import Spike2IO\n",
    "\n",
    "neo_reader = Spike2IO(filename=f_name)\n",
    "neo_data = neo_reader.read()\n",
    "data_block = neo_data[0]\n",
    "seg = data_block.segments[0]\n",
    "# Assuming cs spike trains are saved in the 0th index of spike train channels\n",
    "cs_labeled = np.array(seg.spiketrains[2])\n",
    "cs_labeled = np.int32(cs_labeled/sss.dt)"
   ]
  },
  {
   "cell_type": "code",
   "execution_count": 10,
   "metadata": {},
   "outputs": [],
   "source": [
    "sss.voltage = voltage_chan.data\n",
    "\n",
    "\n",
    "spike_indices = sss.get_spike_indices()\n"
   ]
  },
  {
   "cell_type": "code",
   "execution_count": 11,
   "metadata": {},
   "outputs": [],
   "source": [
    "from kaveh.toolbox import closest_argmin\n",
    "\n",
    "cs = closest_argmin(cs_labeled, spike_indices)\n"
   ]
  },
  {
   "cell_type": "code",
   "execution_count": 12,
   "metadata": {},
   "outputs": [],
   "source": [
    "labeled = np.zeros(spike_indices.shape)\n",
    "labeled[cs] = 1.0"
   ]
  },
  {
   "cell_type": "code",
   "execution_count": 13,
   "metadata": {},
   "outputs": [],
   "source": [
    "# from kaveh.plots import axvlines\n",
    "\n",
    "# plt.close('all')\n",
    "# plt.figure(figsize=(20,5))\n",
    "\n",
    "# # plt.plot(sss.voltage)\n",
    "# # axvlines(plt.gca(), cs_labeled, color = 'r', alpha = 0.2)\n",
    "# plt.plot(labeled, '.')\n"
   ]
  },
  {
   "cell_type": "code",
   "execution_count": 14,
   "metadata": {},
   "outputs": [],
   "source": [
    "# powers = powers[0:cs[-1], :]\n",
    "labeled = labeled[0:cs[-1]]"
   ]
  },
  {
   "cell_type": "code",
   "execution_count": 15,
   "metadata": {},
   "outputs": [],
   "source": [
    "from sklearn.decomposition import PCA\n",
    "from sklearn.preprocessing import normalize\n",
    "aligned_spikes = sss.aligned_spikes[0:cs[-1],:]\n",
    "\n",
    "pca = PCA(n_components=20)\n",
    "pca.fit(aligned_spikes )\n",
    "\n",
    "time_pca = pca.transform(aligned_spikes)\n",
    "time_pca = normalize(time_pca)"
   ]
  },
  {
   "cell_type": "code",
   "execution_count": 16,
   "metadata": {},
   "outputs": [],
   "source": [
    "[max_powers,powers,xf] = sss._find_max_powers()\n",
    "powers = powers[0:cs[-1], :]\n",
    "\n",
    "pca = PCA(n_components=10)\n",
    "pca.fit(powers )\n",
    "\n",
    "freq_pca = pca.transform(powers)\n",
    "freq_pca = normalize(freq_pca)\n"
   ]
  },
  {
   "cell_type": "code",
   "execution_count": 17,
   "metadata": {},
   "outputs": [],
   "source": [
    "X = np.concatenate((freq_pca, time_pca), 1)"
   ]
  },
  {
   "cell_type": "code",
   "execution_count": 104,
   "metadata": {},
   "outputs": [],
   "source": [
    "X = np.concatenate((X,X_test), 0)\n",
    "labeled = np.concatenate((labeled, label_test), 0)"
   ]
  },
  {
   "cell_type": "code",
   "execution_count": 105,
   "metadata": {},
   "outputs": [
    {
     "data": {
      "text/plain": [
       "(59370, 30)"
      ]
     },
     "execution_count": 105,
     "metadata": {},
     "output_type": "execute_result"
    }
   ],
   "source": [
    "X.shape"
   ]
  },
  {
   "cell_type": "code",
   "execution_count": 64,
   "metadata": {},
   "outputs": [],
   "source": [
    "from sklearn.linear_model import LogisticRegression\n",
    "clf = LogisticRegression(random_state=0, solver='lbfgs', multi_class='multinomial', class_weight='balanced').fit(X, labeled)\n",
    "\n"
   ]
  },
  {
   "cell_type": "code",
   "execution_count": 65,
   "metadata": {},
   "outputs": [
    {
     "name": "stdout",
     "output_type": "stream",
     "text": [
      "(20165,)\n",
      "('Error rate: ', 0.005543237250554324)\n"
     ]
    }
   ],
   "source": [
    "prediction = clf.predict(X)\n",
    "print(prediction.shape)\n",
    "print('Error rate: ', np.count_nonzero((prediction - labeled)==-1)/np.sum(labeled))\n"
   ]
  },
  {
   "cell_type": "code",
   "execution_count": 20,
   "metadata": {},
   "outputs": [],
   "source": [
    "# import sklearn\n",
    "\n",
    "# print('The scikit-learn version is {}.'.format(sklearn.__version__))\n"
   ]
  },
  {
   "cell_type": "code",
   "execution_count": 21,
   "metadata": {},
   "outputs": [
    {
     "name": "stdout",
     "output_type": "stream",
     "text": [
      "['score_time', 'test_score', 'train_score', 'fit_time', 'estimator']\n",
      "('Test accuracy', array([0.99717346, 0.99776852, 0.99776819]))\n",
      "('Train accuracy', array([0.99836346, 0.99784274, 0.99821482]))\n"
     ]
    }
   ],
   "source": [
    "# xvalidation\n",
    "from sklearn.model_selection import cross_validate\n",
    "\n",
    "clf = LogisticRegression(random_state=0, solver='lbfgs', multi_class='multinomial')\n",
    "cv_results = cross_validate(clf, X, labeled, cv=3, return_train_score=True, return_estimator = True)\n",
    "\n",
    "print(cv_results.keys())\n",
    "\n",
    "print('Test accuracy', cv_results['test_score'])\n",
    "print('Train accuracy', cv_results['train_score'])\n",
    "\n"
   ]
  },
  {
   "cell_type": "code",
   "execution_count": 22,
   "metadata": {},
   "outputs": [],
   "source": [
    "f_name2 = '/mnt/papers/Herzfeld_Nat_Neurosci_2018/raw_data/2008_Random/Kimo/K45/error_direction/K45_1_ErrorDirectionTest.smr'\n"
   ]
  },
  {
   "cell_type": "code",
   "execution_count": 23,
   "metadata": {},
   "outputs": [],
   "source": [
    "\n",
    "cs_path = '/mnt/data/temp/kaveh/auto_processed/' \n",
    "cf = find_file(os.path.split(f_name2)[1] + '.pkl', cs_path)\n",
    "with open(cf, 'rb') as input:\n",
    "    sss = pickle.load(input)"
   ]
  },
  {
   "cell_type": "code",
   "execution_count": 24,
   "metadata": {},
   "outputs": [],
   "source": [
    "\n",
    "neo_reader = Spike2IO(filename=f_name2)\n",
    "neo_data = neo_reader.read()\n",
    "data_block = neo_data[0]\n",
    "seg = data_block.segments[0]\n",
    "# Assuming cs spike trains are saved in the 0th index of spike train channels\n",
    "cs_label_test = np.array(seg.spiketrains[1])\n",
    "cs_label_test = np.int32(cs_label_test/sss.dt)"
   ]
  },
  {
   "cell_type": "code",
   "execution_count": 25,
   "metadata": {},
   "outputs": [
    {
     "name": "stdout",
     "output_type": "stream",
     "text": [
      "Not implemented (type = 6)\n",
      "Not implemented (type = 5)\n"
     ]
    }
   ],
   "source": [
    "smr_content = File(f_name2)\n",
    "smr_content.read_channels()\n",
    "voltage_chan = smr_content.get_channel(0)\n",
    "sss.voltage = voltage_chan.data\n",
    "spike_indices = sss.get_spike_indices()\n",
    "cs = closest_argmin(cs_label_test, spike_indices)\n",
    "label_test = np.zeros(spike_indices.shape)\n",
    "label_test[cs] = 1.0"
   ]
  },
  {
   "cell_type": "code",
   "execution_count": null,
   "metadata": {},
   "outputs": [],
   "source": []
  },
  {
   "cell_type": "code",
   "execution_count": 26,
   "metadata": {},
   "outputs": [],
   "source": [
    "# aligned_spikes = sss.aligned_spikes[0:cs[-1],:]\n",
    "\n",
    "pca = PCA(n_components=20)\n",
    "pca.fit(sss.aligned_spikes )\n",
    "\n",
    "time_pca_test = pca.transform(sss.aligned_spikes)\n",
    "time_pca_test = normalize(time_pca_test)"
   ]
  },
  {
   "cell_type": "code",
   "execution_count": 27,
   "metadata": {},
   "outputs": [],
   "source": [
    "[max_powers,powers,xf] = sss._find_max_powers()\n",
    "# powers = powers[0:cs[-1], :]\n",
    "\n",
    "pca = PCA(n_components=10)\n",
    "pca.fit(powers )\n",
    "\n",
    "freq_pca_test = pca.transform(powers)\n",
    "freq_pca_test = normalize(freq_pca_test)\n"
   ]
  },
  {
   "cell_type": "code",
   "execution_count": 68,
   "metadata": {},
   "outputs": [
    {
     "name": "stdout",
     "output_type": "stream",
     "text": [
      "(34512,)\n",
      "('Error rate: ', 0.06918238993710692)\n"
     ]
    }
   ],
   "source": [
    "X_test = np.concatenate((freq_pca_test, time_pca_test), 1)\n",
    "# clf = cv_results['estimator'][2]\n",
    "prediction = clf.predict(X_test)\n",
    "print(prediction.shape)\n",
    "print('Error rate: ', np.count_nonzero((prediction - label_test) == -1)/np.float(np.sum(label_test)))\n"
   ]
  },
  {
   "cell_type": "code",
   "execution_count": 37,
   "metadata": {},
   "outputs": [
    {
     "data": {
      "text/plain": [
       "371"
      ]
     },
     "execution_count": 37,
     "metadata": {},
     "output_type": "execute_result"
    }
   ],
   "source": []
  },
  {
   "cell_type": "code",
   "execution_count": null,
   "metadata": {},
   "outputs": [],
   "source": [
    "np.size"
   ]
  },
  {
   "cell_type": "code",
   "execution_count": 32,
   "metadata": {},
   "outputs": [
    {
     "data": {
      "text/plain": [
       "0.9892501159017153"
      ]
     },
     "execution_count": 32,
     "metadata": {},
     "output_type": "execute_result"
    }
   ],
   "source": [
    "clf.score(X_test, label_test)"
   ]
  }
 ],
 "metadata": {
  "kernelspec": {
   "display_name": "Python 2",
   "language": "python",
   "name": "python2"
  },
  "language_info": {
   "codemirror_mode": {
    "name": "ipython",
    "version": 2
   },
   "file_extension": ".py",
   "mimetype": "text/x-python",
   "name": "python",
   "nbconvert_exporter": "python",
   "pygments_lexer": "ipython2",
   "version": "2.7.12"
  }
 },
 "nbformat": 4,
 "nbformat_minor": 2
}
